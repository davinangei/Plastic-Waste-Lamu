{
  "nbformat": 4,
  "nbformat_minor": 0,
  "metadata": {
    "colab": {
      "provenance": [],
      "collapsed_sections": [
        "ulsFg0410SYy",
        "mMJcG_RM0aVp",
        "pbvg-PdkR1Gb",
        "4jMcxKNi58Fs",
        "RSlJNhhk3YhL",
        "OpwOhOqA3c0-",
        "A-tnJic61JlW",
        "p0Fki7fz9f-w",
        "snBWWeasC3_P"
      ]
    },
    "kernelspec": {
      "name": "python3",
      "display_name": "Python 3"
    },
    "language_info": {
      "name": "python"
    },
    "accelerator": "GPU",
    "gpuClass": "standard"
  },
  "cells": [
    {
      "cell_type": "markdown",
      "source": [
        "##Install Modules"
      ],
      "metadata": {
        "id": "ulsFg0410SYy"
      }
    },
    {
      "cell_type": "code",
      "execution_count": null,
      "metadata": {
        "id": "FyO3OfvWzlPd"
      },
      "outputs": [],
      "source": [
        "#General modules\n",
        "import tensorflow as tf\n",
        "import keras\n",
        "import matplotlib.pyplot as plt\n",
        "import numpy as np\n",
        "import pandas as pd\n",
        "import os, pathlib\n",
        "import tensorflow_datasets as tfds\n",
        "import cv2\n",
        "import random\n",
        "\n",
        "#Load the directory\n",
        "from skimage.transform import resize\n",
        "from skimage.io import imread\n",
        "\n",
        "#Train & test the baseline model\n",
        "from sklearn.model_selection import train_test_split\n",
        "from sklearn.metrics import accuracy_score, recall_score, precision_score, f1_score, classification_report, confusion_matrix\n",
        "from sklearn.ensemble import RandomForestClassifier\n",
        "from sklearn import tree\n",
        "import seaborn as sns\n",
        "from sklearn.model_selection import GridSearchCV\n",
        "from sklearn.model_selection import RandomizedSearchCV"
      ]
    },
    {
      "cell_type": "markdown",
      "source": [
        "##Load the Directory"
      ],
      "metadata": {
        "id": "mMJcG_RM0aVp"
      }
    },
    {
      "cell_type": "code",
      "source": [
        "#Connect to the directory\n",
        "plasticimagedir = '/content/drive/MyDrive/Plastic_images_dir'\n",
        "os.chdir(plasticimagedir)\n",
        "!ls"
      ],
      "metadata": {
        "colab": {
          "base_uri": "https://localhost:8080/"
        },
        "id": "5DUntluD0cbZ",
        "outputId": "b053013a-d81b-4857-8d97-d558e6303288"
      },
      "execution_count": null,
      "outputs": [
        {
          "output_type": "stream",
          "name": "stdout",
          "text": [
            "augmented_classifier.png  LDPE\t\t      PVC\n",
            "checkpoint_path2.keras\t  model_ensemble.pkl  saved_model\n",
            "checkpoint_path.keras\t  OTHER\t\t      simple_classifier.png\n",
            "cnn_classifier.png\t  PET\n",
            "HDPE\t\t\t  PP\n"
          ]
        }
      ]
    },
    {
      "cell_type": "markdown",
      "source": [
        "## Pre-Process the Data"
      ],
      "metadata": {
        "id": "pbvg-PdkR1Gb"
      }
    },
    {
      "cell_type": "code",
      "source": [
        "#Categories of plastic types \n",
        "Categories=['HDPE', 'LDPE', 'OTHER', 'PET', 'PP', 'PVC']\n",
        "\n",
        "#Image size\n",
        "IMG_SIZE = 64"
      ],
      "metadata": {
        "id": "8Vzq0HiaR42N"
      },
      "execution_count": null,
      "outputs": []
    },
    {
      "cell_type": "code",
      "source": [
        "#Code adapted from the following sources:\n",
        "#1. https://www.kaggle.com/code/ashutoshvarma/image-classification-using-svm-92-accuracy\n",
        "#2. https://medium.com/analytics-vidhya/image-classification-using-machine-learning-support-vector-machine-svm-dc7a0ec92e01\n",
        "\n",
        "dataset_arr=[] #input array\n",
        "\n",
        "#Loop through the categories\n",
        "for i in Categories:\n",
        "    print(f'loading... {i}') #display message to show that category is loading\n",
        "    path=os.path.join(plasticimagedir,i) #join to the image directory\n",
        "    class_index=Categories.index(i) #subdirectory name which is the inferred label\n",
        "    class_len=len(os.listdir(path)) #get the number of files per category\n",
        "\n",
        "    for img in os.listdir(path):\n",
        "        try:\n",
        "          img_array=cv2.imread(os.path.join(path,img))\n",
        "          resized_array=cv2.resize(img_array,(IMG_SIZE, IMG_SIZE)) #resize images\n",
        "          dataset_arr.append([resized_array,class_index])\n",
        "        except Exception as e:\n",
        "          pass\n",
        "    print(f'loaded {i} successfully:', class_len) #display message to show that category has been loaded successfully"
      ],
      "metadata": {
        "colab": {
          "base_uri": "https://localhost:8080/"
        },
        "id": "u4y8FxyqR9ob",
        "outputId": "c9ae490d-5137-472b-bcbf-829f3b348dcd"
      },
      "execution_count": null,
      "outputs": [
        {
          "output_type": "stream",
          "name": "stdout",
          "text": [
            "loading... HDPE\n",
            "loaded HDPE successfully: 520\n",
            "loading... LDPE\n",
            "loaded LDPE successfully: 516\n",
            "loading... OTHER\n",
            "loaded OTHER successfully: 502\n",
            "loading... PET\n",
            "loaded PET successfully: 544\n",
            "loading... PP\n",
            "loaded PP successfully: 573\n",
            "loading... PVC\n",
            "loaded PVC successfully: 540\n"
          ]
        }
      ]
    },
    {
      "cell_type": "code",
      "source": [
        "#Shuffle the dataset array\n",
        "random.shuffle(dataset_arr)"
      ],
      "metadata": {
        "id": "AU5eQdEqWWKP"
      },
      "execution_count": null,
      "outputs": []
    },
    {
      "cell_type": "code",
      "source": [
        "lenofimage = len(dataset_arr)\n",
        "\n",
        "X=[] #array to store the image data\n",
        "y=[] #array to store the labels\n",
        "\n",
        "#loop through the dataset array, and save the image data and labels into separate arrays\n",
        "#remember in the intial for loop, we saved both the resized array and labels into the dataset array\n",
        "for imgdata, label in dataset_arr:\n",
        "    X.append(imgdata)\n",
        "    y.append(label)\n",
        "\n",
        "#Reshape the array - X should now be a Rank-2 tensor (matrix) \n",
        "# sklearn expects a 2D array as input to the fit() function which will be called on the model during training., the second being height*width*channels\n",
        "X= np.array(X).reshape(lenofimage,-1)\n",
        "\n",
        "#Normalise the array - maintain the pixels of all the images within a uniform range.\n",
        "X = X/255.0\n",
        "print(X.shape)\n",
        "\n",
        "#Y should now be a Rank-1 tensor (vector) as it is just the name of the label\n",
        "y=np.array(y)\n",
        "print(y.shape)"
      ],
      "metadata": {
        "colab": {
          "base_uri": "https://localhost:8080/"
        },
        "id": "1SKLkwN8SL5U",
        "outputId": "90c9090b-f711-4000-de73-5c2328f646a7"
      },
      "execution_count": null,
      "outputs": [
        {
          "output_type": "stream",
          "name": "stdout",
          "text": [
            "(3195, 12288)\n",
            "(3195,)\n"
          ]
        }
      ]
    },
    {
      "cell_type": "markdown",
      "source": [
        "## Decision Trees"
      ],
      "metadata": {
        "id": "4jMcxKNi58Fs"
      }
    },
    {
      "cell_type": "markdown",
      "source": [
        "###Hyperparameter Tuning"
      ],
      "metadata": {
        "id": "RSlJNhhk3YhL"
      }
    },
    {
      "cell_type": "code",
      "source": [
        "#Guidance from: https://scikit-learn.org/stable/modules/tree.html\n",
        "#Split the data\n",
        "x_train,x_test,y_train,y_test=train_test_split(X,y,test_size=0.20,random_state=77)"
      ],
      "metadata": {
        "id": "X-8Ss8EXChH3"
      },
      "execution_count": null,
      "outputs": []
    },
    {
      "cell_type": "code",
      "source": [
        "#Create a decision tree classifier\n",
        "treeclf = tree.DecisionTreeClassifier(random_state = 77)"
      ],
      "metadata": {
        "id": "Afn50S0ggDNp"
      },
      "execution_count": null,
      "outputs": []
    },
    {
      "cell_type": "code",
      "source": [
        "#Create a model through RandomizedCV and the parameters grid\n",
        "param_grid={'max_leaf_nodes': list(range(2, 200))}\n",
        "model=RandomizedSearchCV(treeclf,param_grid, random_state=0,n_jobs=-1, cv=3)\n",
        "#Fit the data - 4 minutes (when image was 150 and range was 2:50 time was 19 minutes)\n",
        "model.fit(x_train, y_train)\n",
        "model.best_estimator_"
      ],
      "metadata": {
        "id": "O2ULy-STh8F9",
        "colab": {
          "base_uri": "https://localhost:8080/",
          "height": 74
        },
        "outputId": "9e0bffc1-974a-4f9a-a750-acc8ddcfca47"
      },
      "execution_count": null,
      "outputs": [
        {
          "output_type": "execute_result",
          "data": {
            "text/plain": [
              "DecisionTreeClassifier(max_leaf_nodes=73, random_state=77)"
            ],
            "text/html": [
              "<style>#sk-container-id-1 {color: black;background-color: white;}#sk-container-id-1 pre{padding: 0;}#sk-container-id-1 div.sk-toggleable {background-color: white;}#sk-container-id-1 label.sk-toggleable__label {cursor: pointer;display: block;width: 100%;margin-bottom: 0;padding: 0.3em;box-sizing: border-box;text-align: center;}#sk-container-id-1 label.sk-toggleable__label-arrow:before {content: \"▸\";float: left;margin-right: 0.25em;color: #696969;}#sk-container-id-1 label.sk-toggleable__label-arrow:hover:before {color: black;}#sk-container-id-1 div.sk-estimator:hover label.sk-toggleable__label-arrow:before {color: black;}#sk-container-id-1 div.sk-toggleable__content {max-height: 0;max-width: 0;overflow: hidden;text-align: left;background-color: #f0f8ff;}#sk-container-id-1 div.sk-toggleable__content pre {margin: 0.2em;color: black;border-radius: 0.25em;background-color: #f0f8ff;}#sk-container-id-1 input.sk-toggleable__control:checked~div.sk-toggleable__content {max-height: 200px;max-width: 100%;overflow: auto;}#sk-container-id-1 input.sk-toggleable__control:checked~label.sk-toggleable__label-arrow:before {content: \"▾\";}#sk-container-id-1 div.sk-estimator input.sk-toggleable__control:checked~label.sk-toggleable__label {background-color: #d4ebff;}#sk-container-id-1 div.sk-label input.sk-toggleable__control:checked~label.sk-toggleable__label {background-color: #d4ebff;}#sk-container-id-1 input.sk-hidden--visually {border: 0;clip: rect(1px 1px 1px 1px);clip: rect(1px, 1px, 1px, 1px);height: 1px;margin: -1px;overflow: hidden;padding: 0;position: absolute;width: 1px;}#sk-container-id-1 div.sk-estimator {font-family: monospace;background-color: #f0f8ff;border: 1px dotted black;border-radius: 0.25em;box-sizing: border-box;margin-bottom: 0.5em;}#sk-container-id-1 div.sk-estimator:hover {background-color: #d4ebff;}#sk-container-id-1 div.sk-parallel-item::after {content: \"\";width: 100%;border-bottom: 1px solid gray;flex-grow: 1;}#sk-container-id-1 div.sk-label:hover label.sk-toggleable__label {background-color: #d4ebff;}#sk-container-id-1 div.sk-serial::before {content: \"\";position: absolute;border-left: 1px solid gray;box-sizing: border-box;top: 0;bottom: 0;left: 50%;z-index: 0;}#sk-container-id-1 div.sk-serial {display: flex;flex-direction: column;align-items: center;background-color: white;padding-right: 0.2em;padding-left: 0.2em;position: relative;}#sk-container-id-1 div.sk-item {position: relative;z-index: 1;}#sk-container-id-1 div.sk-parallel {display: flex;align-items: stretch;justify-content: center;background-color: white;position: relative;}#sk-container-id-1 div.sk-item::before, #sk-container-id-1 div.sk-parallel-item::before {content: \"\";position: absolute;border-left: 1px solid gray;box-sizing: border-box;top: 0;bottom: 0;left: 50%;z-index: -1;}#sk-container-id-1 div.sk-parallel-item {display: flex;flex-direction: column;z-index: 1;position: relative;background-color: white;}#sk-container-id-1 div.sk-parallel-item:first-child::after {align-self: flex-end;width: 50%;}#sk-container-id-1 div.sk-parallel-item:last-child::after {align-self: flex-start;width: 50%;}#sk-container-id-1 div.sk-parallel-item:only-child::after {width: 0;}#sk-container-id-1 div.sk-dashed-wrapped {border: 1px dashed gray;margin: 0 0.4em 0.5em 0.4em;box-sizing: border-box;padding-bottom: 0.4em;background-color: white;}#sk-container-id-1 div.sk-label label {font-family: monospace;font-weight: bold;display: inline-block;line-height: 1.2em;}#sk-container-id-1 div.sk-label-container {text-align: center;}#sk-container-id-1 div.sk-container {/* jupyter's `normalize.less` sets `[hidden] { display: none; }` but bootstrap.min.css set `[hidden] { display: none !important; }` so we also need the `!important` here to be able to override the default hidden behavior on the sphinx rendered scikit-learn.org. See: https://github.com/scikit-learn/scikit-learn/issues/21755 */display: inline-block !important;position: relative;}#sk-container-id-1 div.sk-text-repr-fallback {display: none;}</style><div id=\"sk-container-id-1\" class=\"sk-top-container\"><div class=\"sk-text-repr-fallback\"><pre>DecisionTreeClassifier(max_leaf_nodes=73, random_state=77)</pre><b>In a Jupyter environment, please rerun this cell to show the HTML representation or trust the notebook. <br />On GitHub, the HTML representation is unable to render, please try loading this page with nbviewer.org.</b></div><div class=\"sk-container\" hidden><div class=\"sk-item\"><div class=\"sk-estimator sk-toggleable\"><input class=\"sk-toggleable__control sk-hidden--visually\" id=\"sk-estimator-id-1\" type=\"checkbox\" checked><label for=\"sk-estimator-id-1\" class=\"sk-toggleable__label sk-toggleable__label-arrow\">DecisionTreeClassifier</label><div class=\"sk-toggleable__content\"><pre>DecisionTreeClassifier(max_leaf_nodes=73, random_state=77)</pre></div></div></div></div></div>"
            ]
          },
          "metadata": {},
          "execution_count": 16
        }
      ]
    },
    {
      "cell_type": "code",
      "source": [
        "#Create a model through RandomizedCV and the parameters grid\n",
        "param_grid_2={'min_samples_split': list(range(2, 200))}\n",
        "model_2=RandomizedSearchCV(treeclf,param_grid_2, random_state=0,n_jobs=-1, cv=3)\n",
        "#Fit the data - 4 minutes (when image was 150 and range was 2:50 time was 24 minutes)\n",
        "model_2.fit(x_train, y_train)\n",
        "model_2.best_estimator_"
      ],
      "metadata": {
        "colab": {
          "base_uri": "https://localhost:8080/",
          "height": 74
        },
        "id": "Rl_m5LDwobZb",
        "outputId": "d06d6aad-cc90-4475-b470-32d47a1997cf"
      },
      "execution_count": null,
      "outputs": [
        {
          "output_type": "execute_result",
          "data": {
            "text/plain": [
              "DecisionTreeClassifier(min_samples_split=73, random_state=77)"
            ],
            "text/html": [
              "<style>#sk-container-id-2 {color: black;background-color: white;}#sk-container-id-2 pre{padding: 0;}#sk-container-id-2 div.sk-toggleable {background-color: white;}#sk-container-id-2 label.sk-toggleable__label {cursor: pointer;display: block;width: 100%;margin-bottom: 0;padding: 0.3em;box-sizing: border-box;text-align: center;}#sk-container-id-2 label.sk-toggleable__label-arrow:before {content: \"▸\";float: left;margin-right: 0.25em;color: #696969;}#sk-container-id-2 label.sk-toggleable__label-arrow:hover:before {color: black;}#sk-container-id-2 div.sk-estimator:hover label.sk-toggleable__label-arrow:before {color: black;}#sk-container-id-2 div.sk-toggleable__content {max-height: 0;max-width: 0;overflow: hidden;text-align: left;background-color: #f0f8ff;}#sk-container-id-2 div.sk-toggleable__content pre {margin: 0.2em;color: black;border-radius: 0.25em;background-color: #f0f8ff;}#sk-container-id-2 input.sk-toggleable__control:checked~div.sk-toggleable__content {max-height: 200px;max-width: 100%;overflow: auto;}#sk-container-id-2 input.sk-toggleable__control:checked~label.sk-toggleable__label-arrow:before {content: \"▾\";}#sk-container-id-2 div.sk-estimator input.sk-toggleable__control:checked~label.sk-toggleable__label {background-color: #d4ebff;}#sk-container-id-2 div.sk-label input.sk-toggleable__control:checked~label.sk-toggleable__label {background-color: #d4ebff;}#sk-container-id-2 input.sk-hidden--visually {border: 0;clip: rect(1px 1px 1px 1px);clip: rect(1px, 1px, 1px, 1px);height: 1px;margin: -1px;overflow: hidden;padding: 0;position: absolute;width: 1px;}#sk-container-id-2 div.sk-estimator {font-family: monospace;background-color: #f0f8ff;border: 1px dotted black;border-radius: 0.25em;box-sizing: border-box;margin-bottom: 0.5em;}#sk-container-id-2 div.sk-estimator:hover {background-color: #d4ebff;}#sk-container-id-2 div.sk-parallel-item::after {content: \"\";width: 100%;border-bottom: 1px solid gray;flex-grow: 1;}#sk-container-id-2 div.sk-label:hover label.sk-toggleable__label {background-color: #d4ebff;}#sk-container-id-2 div.sk-serial::before {content: \"\";position: absolute;border-left: 1px solid gray;box-sizing: border-box;top: 0;bottom: 0;left: 50%;z-index: 0;}#sk-container-id-2 div.sk-serial {display: flex;flex-direction: column;align-items: center;background-color: white;padding-right: 0.2em;padding-left: 0.2em;position: relative;}#sk-container-id-2 div.sk-item {position: relative;z-index: 1;}#sk-container-id-2 div.sk-parallel {display: flex;align-items: stretch;justify-content: center;background-color: white;position: relative;}#sk-container-id-2 div.sk-item::before, #sk-container-id-2 div.sk-parallel-item::before {content: \"\";position: absolute;border-left: 1px solid gray;box-sizing: border-box;top: 0;bottom: 0;left: 50%;z-index: -1;}#sk-container-id-2 div.sk-parallel-item {display: flex;flex-direction: column;z-index: 1;position: relative;background-color: white;}#sk-container-id-2 div.sk-parallel-item:first-child::after {align-self: flex-end;width: 50%;}#sk-container-id-2 div.sk-parallel-item:last-child::after {align-self: flex-start;width: 50%;}#sk-container-id-2 div.sk-parallel-item:only-child::after {width: 0;}#sk-container-id-2 div.sk-dashed-wrapped {border: 1px dashed gray;margin: 0 0.4em 0.5em 0.4em;box-sizing: border-box;padding-bottom: 0.4em;background-color: white;}#sk-container-id-2 div.sk-label label {font-family: monospace;font-weight: bold;display: inline-block;line-height: 1.2em;}#sk-container-id-2 div.sk-label-container {text-align: center;}#sk-container-id-2 div.sk-container {/* jupyter's `normalize.less` sets `[hidden] { display: none; }` but bootstrap.min.css set `[hidden] { display: none !important; }` so we also need the `!important` here to be able to override the default hidden behavior on the sphinx rendered scikit-learn.org. See: https://github.com/scikit-learn/scikit-learn/issues/21755 */display: inline-block !important;position: relative;}#sk-container-id-2 div.sk-text-repr-fallback {display: none;}</style><div id=\"sk-container-id-2\" class=\"sk-top-container\"><div class=\"sk-text-repr-fallback\"><pre>DecisionTreeClassifier(min_samples_split=73, random_state=77)</pre><b>In a Jupyter environment, please rerun this cell to show the HTML representation or trust the notebook. <br />On GitHub, the HTML representation is unable to render, please try loading this page with nbviewer.org.</b></div><div class=\"sk-container\" hidden><div class=\"sk-item\"><div class=\"sk-estimator sk-toggleable\"><input class=\"sk-toggleable__control sk-hidden--visually\" id=\"sk-estimator-id-2\" type=\"checkbox\" checked><label for=\"sk-estimator-id-2\" class=\"sk-toggleable__label sk-toggleable__label-arrow\">DecisionTreeClassifier</label><div class=\"sk-toggleable__content\"><pre>DecisionTreeClassifier(min_samples_split=73, random_state=77)</pre></div></div></div></div></div>"
            ]
          },
          "metadata": {},
          "execution_count": 17
        }
      ]
    },
    {
      "cell_type": "code",
      "source": [
        "#Create a model through RandomizedCV and the parameters grid\n",
        "param_grid_3={'max_depth': list(range(2, 200))}\n",
        "model_3=RandomizedSearchCV(treeclf,param_grid_3, random_state=0,n_jobs=-1, cv=3)\n",
        "#Fit the data - 5 minutes (when image was 150 and range was 2:50 time was 28 minutes)\n",
        "model_3.fit(x_train, y_train)\n",
        "model_3.best_estimator_"
      ],
      "metadata": {
        "colab": {
          "base_uri": "https://localhost:8080/",
          "height": 74
        },
        "id": "4MFsJxh9fUd8",
        "outputId": "379ea476-5e63-4aeb-e405-945138ee8be9"
      },
      "execution_count": null,
      "outputs": [
        {
          "output_type": "execute_result",
          "data": {
            "text/plain": [
              "DecisionTreeClassifier(max_depth=7, random_state=77)"
            ],
            "text/html": [
              "<style>#sk-container-id-3 {color: black;background-color: white;}#sk-container-id-3 pre{padding: 0;}#sk-container-id-3 div.sk-toggleable {background-color: white;}#sk-container-id-3 label.sk-toggleable__label {cursor: pointer;display: block;width: 100%;margin-bottom: 0;padding: 0.3em;box-sizing: border-box;text-align: center;}#sk-container-id-3 label.sk-toggleable__label-arrow:before {content: \"▸\";float: left;margin-right: 0.25em;color: #696969;}#sk-container-id-3 label.sk-toggleable__label-arrow:hover:before {color: black;}#sk-container-id-3 div.sk-estimator:hover label.sk-toggleable__label-arrow:before {color: black;}#sk-container-id-3 div.sk-toggleable__content {max-height: 0;max-width: 0;overflow: hidden;text-align: left;background-color: #f0f8ff;}#sk-container-id-3 div.sk-toggleable__content pre {margin: 0.2em;color: black;border-radius: 0.25em;background-color: #f0f8ff;}#sk-container-id-3 input.sk-toggleable__control:checked~div.sk-toggleable__content {max-height: 200px;max-width: 100%;overflow: auto;}#sk-container-id-3 input.sk-toggleable__control:checked~label.sk-toggleable__label-arrow:before {content: \"▾\";}#sk-container-id-3 div.sk-estimator input.sk-toggleable__control:checked~label.sk-toggleable__label {background-color: #d4ebff;}#sk-container-id-3 div.sk-label input.sk-toggleable__control:checked~label.sk-toggleable__label {background-color: #d4ebff;}#sk-container-id-3 input.sk-hidden--visually {border: 0;clip: rect(1px 1px 1px 1px);clip: rect(1px, 1px, 1px, 1px);height: 1px;margin: -1px;overflow: hidden;padding: 0;position: absolute;width: 1px;}#sk-container-id-3 div.sk-estimator {font-family: monospace;background-color: #f0f8ff;border: 1px dotted black;border-radius: 0.25em;box-sizing: border-box;margin-bottom: 0.5em;}#sk-container-id-3 div.sk-estimator:hover {background-color: #d4ebff;}#sk-container-id-3 div.sk-parallel-item::after {content: \"\";width: 100%;border-bottom: 1px solid gray;flex-grow: 1;}#sk-container-id-3 div.sk-label:hover label.sk-toggleable__label {background-color: #d4ebff;}#sk-container-id-3 div.sk-serial::before {content: \"\";position: absolute;border-left: 1px solid gray;box-sizing: border-box;top: 0;bottom: 0;left: 50%;z-index: 0;}#sk-container-id-3 div.sk-serial {display: flex;flex-direction: column;align-items: center;background-color: white;padding-right: 0.2em;padding-left: 0.2em;position: relative;}#sk-container-id-3 div.sk-item {position: relative;z-index: 1;}#sk-container-id-3 div.sk-parallel {display: flex;align-items: stretch;justify-content: center;background-color: white;position: relative;}#sk-container-id-3 div.sk-item::before, #sk-container-id-3 div.sk-parallel-item::before {content: \"\";position: absolute;border-left: 1px solid gray;box-sizing: border-box;top: 0;bottom: 0;left: 50%;z-index: -1;}#sk-container-id-3 div.sk-parallel-item {display: flex;flex-direction: column;z-index: 1;position: relative;background-color: white;}#sk-container-id-3 div.sk-parallel-item:first-child::after {align-self: flex-end;width: 50%;}#sk-container-id-3 div.sk-parallel-item:last-child::after {align-self: flex-start;width: 50%;}#sk-container-id-3 div.sk-parallel-item:only-child::after {width: 0;}#sk-container-id-3 div.sk-dashed-wrapped {border: 1px dashed gray;margin: 0 0.4em 0.5em 0.4em;box-sizing: border-box;padding-bottom: 0.4em;background-color: white;}#sk-container-id-3 div.sk-label label {font-family: monospace;font-weight: bold;display: inline-block;line-height: 1.2em;}#sk-container-id-3 div.sk-label-container {text-align: center;}#sk-container-id-3 div.sk-container {/* jupyter's `normalize.less` sets `[hidden] { display: none; }` but bootstrap.min.css set `[hidden] { display: none !important; }` so we also need the `!important` here to be able to override the default hidden behavior on the sphinx rendered scikit-learn.org. See: https://github.com/scikit-learn/scikit-learn/issues/21755 */display: inline-block !important;position: relative;}#sk-container-id-3 div.sk-text-repr-fallback {display: none;}</style><div id=\"sk-container-id-3\" class=\"sk-top-container\"><div class=\"sk-text-repr-fallback\"><pre>DecisionTreeClassifier(max_depth=7, random_state=77)</pre><b>In a Jupyter environment, please rerun this cell to show the HTML representation or trust the notebook. <br />On GitHub, the HTML representation is unable to render, please try loading this page with nbviewer.org.</b></div><div class=\"sk-container\" hidden><div class=\"sk-item\"><div class=\"sk-estimator sk-toggleable\"><input class=\"sk-toggleable__control sk-hidden--visually\" id=\"sk-estimator-id-3\" type=\"checkbox\" checked><label for=\"sk-estimator-id-3\" class=\"sk-toggleable__label sk-toggleable__label-arrow\">DecisionTreeClassifier</label><div class=\"sk-toggleable__content\"><pre>DecisionTreeClassifier(max_depth=7, random_state=77)</pre></div></div></div></div></div>"
            ]
          },
          "metadata": {},
          "execution_count": 18
        }
      ]
    },
    {
      "cell_type": "code",
      "source": [
        "#Create a model through RandomizedCV and the parameters grid\n",
        "param_grid_4={'min_samples_leaf': list(range(2, 200))}\n",
        "model_4=RandomizedSearchCV(treeclf,param_grid_4, random_state=0,n_jobs=-1, cv=3)\n",
        "#Fit the data - 2 minutes (when image was 150 and range was 2:50 time was 19 minutes)\n",
        "model_4.fit(x_train, y_train)\n",
        "model_4.best_estimator_"
      ],
      "metadata": {
        "colab": {
          "base_uri": "https://localhost:8080/",
          "height": 74
        },
        "id": "uCpwmmEjwMvv",
        "outputId": "971e0d57-535e-43d0-bd75-ea84b3255085"
      },
      "execution_count": null,
      "outputs": [
        {
          "output_type": "execute_result",
          "data": {
            "text/plain": [
              "DecisionTreeClassifier(min_samples_leaf=14, random_state=77)"
            ],
            "text/html": [
              "<style>#sk-container-id-4 {color: black;background-color: white;}#sk-container-id-4 pre{padding: 0;}#sk-container-id-4 div.sk-toggleable {background-color: white;}#sk-container-id-4 label.sk-toggleable__label {cursor: pointer;display: block;width: 100%;margin-bottom: 0;padding: 0.3em;box-sizing: border-box;text-align: center;}#sk-container-id-4 label.sk-toggleable__label-arrow:before {content: \"▸\";float: left;margin-right: 0.25em;color: #696969;}#sk-container-id-4 label.sk-toggleable__label-arrow:hover:before {color: black;}#sk-container-id-4 div.sk-estimator:hover label.sk-toggleable__label-arrow:before {color: black;}#sk-container-id-4 div.sk-toggleable__content {max-height: 0;max-width: 0;overflow: hidden;text-align: left;background-color: #f0f8ff;}#sk-container-id-4 div.sk-toggleable__content pre {margin: 0.2em;color: black;border-radius: 0.25em;background-color: #f0f8ff;}#sk-container-id-4 input.sk-toggleable__control:checked~div.sk-toggleable__content {max-height: 200px;max-width: 100%;overflow: auto;}#sk-container-id-4 input.sk-toggleable__control:checked~label.sk-toggleable__label-arrow:before {content: \"▾\";}#sk-container-id-4 div.sk-estimator input.sk-toggleable__control:checked~label.sk-toggleable__label {background-color: #d4ebff;}#sk-container-id-4 div.sk-label input.sk-toggleable__control:checked~label.sk-toggleable__label {background-color: #d4ebff;}#sk-container-id-4 input.sk-hidden--visually {border: 0;clip: rect(1px 1px 1px 1px);clip: rect(1px, 1px, 1px, 1px);height: 1px;margin: -1px;overflow: hidden;padding: 0;position: absolute;width: 1px;}#sk-container-id-4 div.sk-estimator {font-family: monospace;background-color: #f0f8ff;border: 1px dotted black;border-radius: 0.25em;box-sizing: border-box;margin-bottom: 0.5em;}#sk-container-id-4 div.sk-estimator:hover {background-color: #d4ebff;}#sk-container-id-4 div.sk-parallel-item::after {content: \"\";width: 100%;border-bottom: 1px solid gray;flex-grow: 1;}#sk-container-id-4 div.sk-label:hover label.sk-toggleable__label {background-color: #d4ebff;}#sk-container-id-4 div.sk-serial::before {content: \"\";position: absolute;border-left: 1px solid gray;box-sizing: border-box;top: 0;bottom: 0;left: 50%;z-index: 0;}#sk-container-id-4 div.sk-serial {display: flex;flex-direction: column;align-items: center;background-color: white;padding-right: 0.2em;padding-left: 0.2em;position: relative;}#sk-container-id-4 div.sk-item {position: relative;z-index: 1;}#sk-container-id-4 div.sk-parallel {display: flex;align-items: stretch;justify-content: center;background-color: white;position: relative;}#sk-container-id-4 div.sk-item::before, #sk-container-id-4 div.sk-parallel-item::before {content: \"\";position: absolute;border-left: 1px solid gray;box-sizing: border-box;top: 0;bottom: 0;left: 50%;z-index: -1;}#sk-container-id-4 div.sk-parallel-item {display: flex;flex-direction: column;z-index: 1;position: relative;background-color: white;}#sk-container-id-4 div.sk-parallel-item:first-child::after {align-self: flex-end;width: 50%;}#sk-container-id-4 div.sk-parallel-item:last-child::after {align-self: flex-start;width: 50%;}#sk-container-id-4 div.sk-parallel-item:only-child::after {width: 0;}#sk-container-id-4 div.sk-dashed-wrapped {border: 1px dashed gray;margin: 0 0.4em 0.5em 0.4em;box-sizing: border-box;padding-bottom: 0.4em;background-color: white;}#sk-container-id-4 div.sk-label label {font-family: monospace;font-weight: bold;display: inline-block;line-height: 1.2em;}#sk-container-id-4 div.sk-label-container {text-align: center;}#sk-container-id-4 div.sk-container {/* jupyter's `normalize.less` sets `[hidden] { display: none; }` but bootstrap.min.css set `[hidden] { display: none !important; }` so we also need the `!important` here to be able to override the default hidden behavior on the sphinx rendered scikit-learn.org. See: https://github.com/scikit-learn/scikit-learn/issues/21755 */display: inline-block !important;position: relative;}#sk-container-id-4 div.sk-text-repr-fallback {display: none;}</style><div id=\"sk-container-id-4\" class=\"sk-top-container\"><div class=\"sk-text-repr-fallback\"><pre>DecisionTreeClassifier(min_samples_leaf=14, random_state=77)</pre><b>In a Jupyter environment, please rerun this cell to show the HTML representation or trust the notebook. <br />On GitHub, the HTML representation is unable to render, please try loading this page with nbviewer.org.</b></div><div class=\"sk-container\" hidden><div class=\"sk-item\"><div class=\"sk-estimator sk-toggleable\"><input class=\"sk-toggleable__control sk-hidden--visually\" id=\"sk-estimator-id-4\" type=\"checkbox\" checked><label for=\"sk-estimator-id-4\" class=\"sk-toggleable__label sk-toggleable__label-arrow\">DecisionTreeClassifier</label><div class=\"sk-toggleable__content\"><pre>DecisionTreeClassifier(min_samples_leaf=14, random_state=77)</pre></div></div></div></div></div>"
            ]
          },
          "metadata": {},
          "execution_count": 19
        }
      ]
    },
    {
      "cell_type": "markdown",
      "source": [
        "###Training and Testing the Model"
      ],
      "metadata": {
        "id": "OpwOhOqA3c0-"
      }
    },
    {
      "cell_type": "code",
      "source": [
        "#Train the data using Decision Trees\n",
        "clf = tree.DecisionTreeClassifier(max_leaf_nodes = 73, random_state = 77, min_samples_split = 73, min_samples_leaf=14, max_depth=7,\n",
        "                                  criterion=\"entropy\", splitter=\"best\")\n",
        "\n",
        "#Fit the data\n",
        "clf.fit(x_train, y_train)\n",
        "\n",
        "#Test the dataset using the RandomForestClassifier\n",
        "y_pred = clf.predict(x_test)\n",
        "\n",
        "#print the metrics to give a baseline score\n",
        "print('Training score:', clf.score(x_train, y_train))\n",
        "print('Accuracy:', accuracy_score(y_test, y_pred))\n",
        "print('Recall:', recall_score(y_test, y_pred, average = 'weighted'))\n",
        "print('Precision:', precision_score(y_test, y_pred, average='micro'))\n",
        "print('F1_score:', f1_score(y_test, y_pred, average = 'macro'))"
      ],
      "metadata": {
        "colab": {
          "base_uri": "https://localhost:8080/"
        },
        "id": "k397aGDj59zt",
        "outputId": "13d0b706-4a45-43ed-d32b-5f73aeaf16e9"
      },
      "execution_count": null,
      "outputs": [
        {
          "output_type": "stream",
          "name": "stdout",
          "text": [
            "Training score: 0.6048513302034428\n",
            "Accuracy: 0.4475743348982786\n",
            "Recall: 0.4475743348982786\n",
            "Precision: 0.4475743348982786\n",
            "F1_score: 0.44546293132212317\n"
          ]
        }
      ]
    },
    {
      "cell_type": "code",
      "source": [
        "#print the classification report\n",
        "print(classification_report(y_pred,y_test))"
      ],
      "metadata": {
        "colab": {
          "base_uri": "https://localhost:8080/"
        },
        "id": "LStoTunZ7OGs",
        "outputId": "2018054d-337a-406a-e0e8-3ade531262ee"
      },
      "execution_count": null,
      "outputs": [
        {
          "output_type": "stream",
          "name": "stdout",
          "text": [
            "              precision    recall  f1-score   support\n",
            "\n",
            "           0       0.51      0.36      0.42       141\n",
            "           1       0.48      0.47      0.47       131\n",
            "           2       0.49      0.53      0.51        93\n",
            "           3       0.30      0.45      0.36        64\n",
            "           4       0.48      0.57      0.52        94\n",
            "           5       0.41      0.36      0.38       116\n",
            "\n",
            "    accuracy                           0.45       639\n",
            "   macro avg       0.45      0.46      0.45       639\n",
            "weighted avg       0.46      0.45      0.45       639\n",
            "\n"
          ]
        }
      ]
    },
    {
      "cell_type": "code",
      "source": [
        "#print the confusion matrix as an image\n",
        "confmat = confusion_matrix(y_test, y_pred)\n",
        "classes = Categories\n",
        "\n",
        "#put the confusion matrix into a dataframe\n",
        "df_confmat = pd.DataFrame(confmat, index = classes, columns = classes)\n",
        "\n",
        "#plot the confusion matrix using a heatmap\n",
        "plt.figure(figsize = (5,5))\n",
        "confmat_plot = sns.heatmap(df_confmat, annot=True)"
      ],
      "metadata": {
        "colab": {
          "base_uri": "https://localhost:8080/",
          "height": 320
        },
        "id": "wCkCqe-s0gKN",
        "outputId": "d5f7ba8e-0798-4e21-a314-16fe8ee12707"
      },
      "execution_count": null,
      "outputs": [
        {
          "output_type": "display_data",
          "data": {
            "text/plain": [
              "<Figure size 360x360 with 2 Axes>"
            ],
            "image/png": "[encoded data removed]"
          },
          "metadata": {
            "needs_background": "light"
          }
        }
      ]
    },
    {
      "cell_type": "markdown",
      "source": [
        "##Random Forest Classifier"
      ],
      "metadata": {
        "id": "A-tnJic61JlW"
      }
    },
    {
      "cell_type": "markdown",
      "source": [
        "###Hyperparameter Tuning"
      ],
      "metadata": {
        "id": "p0Fki7fz9f-w"
      }
    },
    {
      "cell_type": "code",
      "source": [
        "#Guidance from: https://scikit-learn.org/stable/modules/generated/sklearn.ensemble.RandomForestClassifier.html\n",
        "forestclf = RandomForestClassifier(random_state = 0)"
      ],
      "metadata": {
        "id": "PNAJ_pXU-Nbd"
      },
      "execution_count": null,
      "outputs": []
    },
    {
      "cell_type": "code",
      "source": [
        "#Create a model through RandomizedCV and the parameters grid\n",
        "param_grid_5={'n_estimators': list(range(2, 200))}\n",
        "model_5=RandomizedSearchCV(forestclf,param_grid_5, random_state=0,n_jobs=-1, cv=5)\n",
        "#Fit the data - 2 minutes\n",
        "model_5.fit(x_train, y_train)\n",
        "model_5.best_estimator_"
      ],
      "metadata": {
        "colab": {
          "base_uri": "https://localhost:8080/",
          "height": 74
        },
        "id": "tCJ_xCpD9yK1",
        "outputId": "6eb11844-8111-410e-b20d-95eee471c74d"
      },
      "execution_count": null,
      "outputs": [
        {
          "output_type": "execute_result",
          "data": {
            "text/plain": [
              "RandomForestClassifier(n_estimators=170, random_state=77)"
            ],
            "text/html": [
              "<style>#sk-container-id-5 {color: black;background-color: white;}#sk-container-id-5 pre{padding: 0;}#sk-container-id-5 div.sk-toggleable {background-color: white;}#sk-container-id-5 label.sk-toggleable__label {cursor: pointer;display: block;width: 100%;margin-bottom: 0;padding: 0.3em;box-sizing: border-box;text-align: center;}#sk-container-id-5 label.sk-toggleable__label-arrow:before {content: \"▸\";float: left;margin-right: 0.25em;color: #696969;}#sk-container-id-5 label.sk-toggleable__label-arrow:hover:before {color: black;}#sk-container-id-5 div.sk-estimator:hover label.sk-toggleable__label-arrow:before {color: black;}#sk-container-id-5 div.sk-toggleable__content {max-height: 0;max-width: 0;overflow: hidden;text-align: left;background-color: #f0f8ff;}#sk-container-id-5 div.sk-toggleable__content pre {margin: 0.2em;color: black;border-radius: 0.25em;background-color: #f0f8ff;}#sk-container-id-5 input.sk-toggleable__control:checked~div.sk-toggleable__content {max-height: 200px;max-width: 100%;overflow: auto;}#sk-container-id-5 input.sk-toggleable__control:checked~label.sk-toggleable__label-arrow:before {content: \"▾\";}#sk-container-id-5 div.sk-estimator input.sk-toggleable__control:checked~label.sk-toggleable__label {background-color: #d4ebff;}#sk-container-id-5 div.sk-label input.sk-toggleable__control:checked~label.sk-toggleable__label {background-color: #d4ebff;}#sk-container-id-5 input.sk-hidden--visually {border: 0;clip: rect(1px 1px 1px 1px);clip: rect(1px, 1px, 1px, 1px);height: 1px;margin: -1px;overflow: hidden;padding: 0;position: absolute;width: 1px;}#sk-container-id-5 div.sk-estimator {font-family: monospace;background-color: #f0f8ff;border: 1px dotted black;border-radius: 0.25em;box-sizing: border-box;margin-bottom: 0.5em;}#sk-container-id-5 div.sk-estimator:hover {background-color: #d4ebff;}#sk-container-id-5 div.sk-parallel-item::after {content: \"\";width: 100%;border-bottom: 1px solid gray;flex-grow: 1;}#sk-container-id-5 div.sk-label:hover label.sk-toggleable__label {background-color: #d4ebff;}#sk-container-id-5 div.sk-serial::before {content: \"\";position: absolute;border-left: 1px solid gray;box-sizing: border-box;top: 0;bottom: 0;left: 50%;z-index: 0;}#sk-container-id-5 div.sk-serial {display: flex;flex-direction: column;align-items: center;background-color: white;padding-right: 0.2em;padding-left: 0.2em;position: relative;}#sk-container-id-5 div.sk-item {position: relative;z-index: 1;}#sk-container-id-5 div.sk-parallel {display: flex;align-items: stretch;justify-content: center;background-color: white;position: relative;}#sk-container-id-5 div.sk-item::before, #sk-container-id-5 div.sk-parallel-item::before {content: \"\";position: absolute;border-left: 1px solid gray;box-sizing: border-box;top: 0;bottom: 0;left: 50%;z-index: -1;}#sk-container-id-5 div.sk-parallel-item {display: flex;flex-direction: column;z-index: 1;position: relative;background-color: white;}#sk-container-id-5 div.sk-parallel-item:first-child::after {align-self: flex-end;width: 50%;}#sk-container-id-5 div.sk-parallel-item:last-child::after {align-self: flex-start;width: 50%;}#sk-container-id-5 div.sk-parallel-item:only-child::after {width: 0;}#sk-container-id-5 div.sk-dashed-wrapped {border: 1px dashed gray;margin: 0 0.4em 0.5em 0.4em;box-sizing: border-box;padding-bottom: 0.4em;background-color: white;}#sk-container-id-5 div.sk-label label {font-family: monospace;font-weight: bold;display: inline-block;line-height: 1.2em;}#sk-container-id-5 div.sk-label-container {text-align: center;}#sk-container-id-5 div.sk-container {/* jupyter's `normalize.less` sets `[hidden] { display: none; }` but bootstrap.min.css set `[hidden] { display: none !important; }` so we also need the `!important` here to be able to override the default hidden behavior on the sphinx rendered scikit-learn.org. See: https://github.com/scikit-learn/scikit-learn/issues/21755 */display: inline-block !important;position: relative;}#sk-container-id-5 div.sk-text-repr-fallback {display: none;}</style><div id=\"sk-container-id-5\" class=\"sk-top-container\"><div class=\"sk-text-repr-fallback\"><pre>RandomForestClassifier(n_estimators=170, random_state=77)</pre><b>In a Jupyter environment, please rerun this cell to show the HTML representation or trust the notebook. <br />On GitHub, the HTML representation is unable to render, please try loading this page with nbviewer.org.</b></div><div class=\"sk-container\" hidden><div class=\"sk-item\"><div class=\"sk-estimator sk-toggleable\"><input class=\"sk-toggleable__control sk-hidden--visually\" id=\"sk-estimator-id-5\" type=\"checkbox\" checked><label for=\"sk-estimator-id-5\" class=\"sk-toggleable__label sk-toggleable__label-arrow\">RandomForestClassifier</label><div class=\"sk-toggleable__content\"><pre>RandomForestClassifier(n_estimators=170, random_state=77)</pre></div></div></div></div></div>"
            ]
          },
          "metadata": {},
          "execution_count": 24
        }
      ]
    },
    {
      "cell_type": "code",
      "source": [
        "#Create a model through RandomizedCV and the parameters grid\n",
        "param_grid_6={'min_samples_split': list(range(2, 200))}\n",
        "model_6=RandomizedSearchCV(forestclf,param_grid_6, random_state=0,n_jobs=-1, cv=5)\n",
        "#Fit the data - 7 minutes\n",
        "model_6.fit(x_train, y_train)\n",
        "model_6.best_estimator_"
      ],
      "metadata": {
        "colab": {
          "base_uri": "https://localhost:8080/",
          "height": 74
        },
        "id": "PY2ivoQm-ulA",
        "outputId": "dc728c88-e12d-4c6f-c041-3dde8102a85a"
      },
      "execution_count": null,
      "outputs": [
        {
          "output_type": "execute_result",
          "data": {
            "text/plain": [
              "RandomForestClassifier(min_samples_split=7, random_state=77)"
            ],
            "text/html": [
              "<style>#sk-container-id-6 {color: black;background-color: white;}#sk-container-id-6 pre{padding: 0;}#sk-container-id-6 div.sk-toggleable {background-color: white;}#sk-container-id-6 label.sk-toggleable__label {cursor: pointer;display: block;width: 100%;margin-bottom: 0;padding: 0.3em;box-sizing: border-box;text-align: center;}#sk-container-id-6 label.sk-toggleable__label-arrow:before {content: \"▸\";float: left;margin-right: 0.25em;color: #696969;}#sk-container-id-6 label.sk-toggleable__label-arrow:hover:before {color: black;}#sk-container-id-6 div.sk-estimator:hover label.sk-toggleable__label-arrow:before {color: black;}#sk-container-id-6 div.sk-toggleable__content {max-height: 0;max-width: 0;overflow: hidden;text-align: left;background-color: #f0f8ff;}#sk-container-id-6 div.sk-toggleable__content pre {margin: 0.2em;color: black;border-radius: 0.25em;background-color: #f0f8ff;}#sk-container-id-6 input.sk-toggleable__control:checked~div.sk-toggleable__content {max-height: 200px;max-width: 100%;overflow: auto;}#sk-container-id-6 input.sk-toggleable__control:checked~label.sk-toggleable__label-arrow:before {content: \"▾\";}#sk-container-id-6 div.sk-estimator input.sk-toggleable__control:checked~label.sk-toggleable__label {background-color: #d4ebff;}#sk-container-id-6 div.sk-label input.sk-toggleable__control:checked~label.sk-toggleable__label {background-color: #d4ebff;}#sk-container-id-6 input.sk-hidden--visually {border: 0;clip: rect(1px 1px 1px 1px);clip: rect(1px, 1px, 1px, 1px);height: 1px;margin: -1px;overflow: hidden;padding: 0;position: absolute;width: 1px;}#sk-container-id-6 div.sk-estimator {font-family: monospace;background-color: #f0f8ff;border: 1px dotted black;border-radius: 0.25em;box-sizing: border-box;margin-bottom: 0.5em;}#sk-container-id-6 div.sk-estimator:hover {background-color: #d4ebff;}#sk-container-id-6 div.sk-parallel-item::after {content: \"\";width: 100%;border-bottom: 1px solid gray;flex-grow: 1;}#sk-container-id-6 div.sk-label:hover label.sk-toggleable__label {background-color: #d4ebff;}#sk-container-id-6 div.sk-serial::before {content: \"\";position: absolute;border-left: 1px solid gray;box-sizing: border-box;top: 0;bottom: 0;left: 50%;z-index: 0;}#sk-container-id-6 div.sk-serial {display: flex;flex-direction: column;align-items: center;background-color: white;padding-right: 0.2em;padding-left: 0.2em;position: relative;}#sk-container-id-6 div.sk-item {position: relative;z-index: 1;}#sk-container-id-6 div.sk-parallel {display: flex;align-items: stretch;justify-content: center;background-color: white;position: relative;}#sk-container-id-6 div.sk-item::before, #sk-container-id-6 div.sk-parallel-item::before {content: \"\";position: absolute;border-left: 1px solid gray;box-sizing: border-box;top: 0;bottom: 0;left: 50%;z-index: -1;}#sk-container-id-6 div.sk-parallel-item {display: flex;flex-direction: column;z-index: 1;position: relative;background-color: white;}#sk-container-id-6 div.sk-parallel-item:first-child::after {align-self: flex-end;width: 50%;}#sk-container-id-6 div.sk-parallel-item:last-child::after {align-self: flex-start;width: 50%;}#sk-container-id-6 div.sk-parallel-item:only-child::after {width: 0;}#sk-container-id-6 div.sk-dashed-wrapped {border: 1px dashed gray;margin: 0 0.4em 0.5em 0.4em;box-sizing: border-box;padding-bottom: 0.4em;background-color: white;}#sk-container-id-6 div.sk-label label {font-family: monospace;font-weight: bold;display: inline-block;line-height: 1.2em;}#sk-container-id-6 div.sk-label-container {text-align: center;}#sk-container-id-6 div.sk-container {/* jupyter's `normalize.less` sets `[hidden] { display: none; }` but bootstrap.min.css set `[hidden] { display: none !important; }` so we also need the `!important` here to be able to override the default hidden behavior on the sphinx rendered scikit-learn.org. See: https://github.com/scikit-learn/scikit-learn/issues/21755 */display: inline-block !important;position: relative;}#sk-container-id-6 div.sk-text-repr-fallback {display: none;}</style><div id=\"sk-container-id-6\" class=\"sk-top-container\"><div class=\"sk-text-repr-fallback\"><pre>RandomForestClassifier(min_samples_split=7, random_state=77)</pre><b>In a Jupyter environment, please rerun this cell to show the HTML representation or trust the notebook. <br />On GitHub, the HTML representation is unable to render, please try loading this page with nbviewer.org.</b></div><div class=\"sk-container\" hidden><div class=\"sk-item\"><div class=\"sk-estimator sk-toggleable\"><input class=\"sk-toggleable__control sk-hidden--visually\" id=\"sk-estimator-id-6\" type=\"checkbox\" checked><label for=\"sk-estimator-id-6\" class=\"sk-toggleable__label sk-toggleable__label-arrow\">RandomForestClassifier</label><div class=\"sk-toggleable__content\"><pre>RandomForestClassifier(min_samples_split=7, random_state=77)</pre></div></div></div></div></div>"
            ]
          },
          "metadata": {},
          "execution_count": 26
        }
      ]
    },
    {
      "cell_type": "code",
      "source": [
        "#Create a model through RandomizedCV and the parameters grid\n",
        "param_grid_7={'min_samples_leaf': list(range(2, 200))}\n",
        "model_7=RandomizedSearchCV(forestclf,param_grid_7, random_state=0,n_jobs=-1, cv=5)\n",
        "#Fit the data - 4 minutes\n",
        "model_7.fit(x_train, y_train)\n",
        "model_7.best_estimator_"
      ],
      "metadata": {
        "colab": {
          "base_uri": "https://localhost:8080/",
          "height": 74
        },
        "id": "E4qOJL7L-vEe",
        "outputId": "a443af24-5f75-456b-b8c6-4bb8305a42a4"
      },
      "execution_count": null,
      "outputs": [
        {
          "output_type": "execute_result",
          "data": {
            "text/plain": [
              "RandomForestClassifier(min_samples_leaf=7, random_state=77)"
            ],
            "text/html": [
              "<style>#sk-container-id-7 {color: black;background-color: white;}#sk-container-id-7 pre{padding: 0;}#sk-container-id-7 div.sk-toggleable {background-color: white;}#sk-container-id-7 label.sk-toggleable__label {cursor: pointer;display: block;width: 100%;margin-bottom: 0;padding: 0.3em;box-sizing: border-box;text-align: center;}#sk-container-id-7 label.sk-toggleable__label-arrow:before {content: \"▸\";float: left;margin-right: 0.25em;color: #696969;}#sk-container-id-7 label.sk-toggleable__label-arrow:hover:before {color: black;}#sk-container-id-7 div.sk-estimator:hover label.sk-toggleable__label-arrow:before {color: black;}#sk-container-id-7 div.sk-toggleable__content {max-height: 0;max-width: 0;overflow: hidden;text-align: left;background-color: #f0f8ff;}#sk-container-id-7 div.sk-toggleable__content pre {margin: 0.2em;color: black;border-radius: 0.25em;background-color: #f0f8ff;}#sk-container-id-7 input.sk-toggleable__control:checked~div.sk-toggleable__content {max-height: 200px;max-width: 100%;overflow: auto;}#sk-container-id-7 input.sk-toggleable__control:checked~label.sk-toggleable__label-arrow:before {content: \"▾\";}#sk-container-id-7 div.sk-estimator input.sk-toggleable__control:checked~label.sk-toggleable__label {background-color: #d4ebff;}#sk-container-id-7 div.sk-label input.sk-toggleable__control:checked~label.sk-toggleable__label {background-color: #d4ebff;}#sk-container-id-7 input.sk-hidden--visually {border: 0;clip: rect(1px 1px 1px 1px);clip: rect(1px, 1px, 1px, 1px);height: 1px;margin: -1px;overflow: hidden;padding: 0;position: absolute;width: 1px;}#sk-container-id-7 div.sk-estimator {font-family: monospace;background-color: #f0f8ff;border: 1px dotted black;border-radius: 0.25em;box-sizing: border-box;margin-bottom: 0.5em;}#sk-container-id-7 div.sk-estimator:hover {background-color: #d4ebff;}#sk-container-id-7 div.sk-parallel-item::after {content: \"\";width: 100%;border-bottom: 1px solid gray;flex-grow: 1;}#sk-container-id-7 div.sk-label:hover label.sk-toggleable__label {background-color: #d4ebff;}#sk-container-id-7 div.sk-serial::before {content: \"\";position: absolute;border-left: 1px solid gray;box-sizing: border-box;top: 0;bottom: 0;left: 50%;z-index: 0;}#sk-container-id-7 div.sk-serial {display: flex;flex-direction: column;align-items: center;background-color: white;padding-right: 0.2em;padding-left: 0.2em;position: relative;}#sk-container-id-7 div.sk-item {position: relative;z-index: 1;}#sk-container-id-7 div.sk-parallel {display: flex;align-items: stretch;justify-content: center;background-color: white;position: relative;}#sk-container-id-7 div.sk-item::before, #sk-container-id-7 div.sk-parallel-item::before {content: \"\";position: absolute;border-left: 1px solid gray;box-sizing: border-box;top: 0;bottom: 0;left: 50%;z-index: -1;}#sk-container-id-7 div.sk-parallel-item {display: flex;flex-direction: column;z-index: 1;position: relative;background-color: white;}#sk-container-id-7 div.sk-parallel-item:first-child::after {align-self: flex-end;width: 50%;}#sk-container-id-7 div.sk-parallel-item:last-child::after {align-self: flex-start;width: 50%;}#sk-container-id-7 div.sk-parallel-item:only-child::after {width: 0;}#sk-container-id-7 div.sk-dashed-wrapped {border: 1px dashed gray;margin: 0 0.4em 0.5em 0.4em;box-sizing: border-box;padding-bottom: 0.4em;background-color: white;}#sk-container-id-7 div.sk-label label {font-family: monospace;font-weight: bold;display: inline-block;line-height: 1.2em;}#sk-container-id-7 div.sk-label-container {text-align: center;}#sk-container-id-7 div.sk-container {/* jupyter's `normalize.less` sets `[hidden] { display: none; }` but bootstrap.min.css set `[hidden] { display: none !important; }` so we also need the `!important` here to be able to override the default hidden behavior on the sphinx rendered scikit-learn.org. See: https://github.com/scikit-learn/scikit-learn/issues/21755 */display: inline-block !important;position: relative;}#sk-container-id-7 div.sk-text-repr-fallback {display: none;}</style><div id=\"sk-container-id-7\" class=\"sk-top-container\"><div class=\"sk-text-repr-fallback\"><pre>RandomForestClassifier(min_samples_leaf=7, random_state=77)</pre><b>In a Jupyter environment, please rerun this cell to show the HTML representation or trust the notebook. <br />On GitHub, the HTML representation is unable to render, please try loading this page with nbviewer.org.</b></div><div class=\"sk-container\" hidden><div class=\"sk-item\"><div class=\"sk-estimator sk-toggleable\"><input class=\"sk-toggleable__control sk-hidden--visually\" id=\"sk-estimator-id-7\" type=\"checkbox\" checked><label for=\"sk-estimator-id-7\" class=\"sk-toggleable__label sk-toggleable__label-arrow\">RandomForestClassifier</label><div class=\"sk-toggleable__content\"><pre>RandomForestClassifier(min_samples_leaf=7, random_state=77)</pre></div></div></div></div></div>"
            ]
          },
          "metadata": {},
          "execution_count": 27
        }
      ]
    },
    {
      "cell_type": "code",
      "source": [
        "#Create a model through RandomizedCV and the parameters grid\n",
        "param_grid_8={'max_features': list(range(2, 200))}\n",
        "model_8=RandomizedSearchCV(forestclf,param_grid_8, random_state=0,n_jobs=-1, cv=5)\n",
        "#Fit the data - 1 minutes\n",
        "model_8.fit(x_train, y_train)\n",
        "model_8.best_estimator_"
      ],
      "metadata": {
        "colab": {
          "base_uri": "https://localhost:8080/",
          "height": 74
        },
        "id": "SK6Ppgxr-u1W",
        "outputId": "ad0d2d11-6cb8-4aeb-a19a-0b72da280327"
      },
      "execution_count": null,
      "outputs": [
        {
          "output_type": "execute_result",
          "data": {
            "text/plain": [
              "RandomForestClassifier(max_features=120, random_state=77)"
            ],
            "text/html": [
              "<style>#sk-container-id-8 {color: black;background-color: white;}#sk-container-id-8 pre{padding: 0;}#sk-container-id-8 div.sk-toggleable {background-color: white;}#sk-container-id-8 label.sk-toggleable__label {cursor: pointer;display: block;width: 100%;margin-bottom: 0;padding: 0.3em;box-sizing: border-box;text-align: center;}#sk-container-id-8 label.sk-toggleable__label-arrow:before {content: \"▸\";float: left;margin-right: 0.25em;color: #696969;}#sk-container-id-8 label.sk-toggleable__label-arrow:hover:before {color: black;}#sk-container-id-8 div.sk-estimator:hover label.sk-toggleable__label-arrow:before {color: black;}#sk-container-id-8 div.sk-toggleable__content {max-height: 0;max-width: 0;overflow: hidden;text-align: left;background-color: #f0f8ff;}#sk-container-id-8 div.sk-toggleable__content pre {margin: 0.2em;color: black;border-radius: 0.25em;background-color: #f0f8ff;}#sk-container-id-8 input.sk-toggleable__control:checked~div.sk-toggleable__content {max-height: 200px;max-width: 100%;overflow: auto;}#sk-container-id-8 input.sk-toggleable__control:checked~label.sk-toggleable__label-arrow:before {content: \"▾\";}#sk-container-id-8 div.sk-estimator input.sk-toggleable__control:checked~label.sk-toggleable__label {background-color: #d4ebff;}#sk-container-id-8 div.sk-label input.sk-toggleable__control:checked~label.sk-toggleable__label {background-color: #d4ebff;}#sk-container-id-8 input.sk-hidden--visually {border: 0;clip: rect(1px 1px 1px 1px);clip: rect(1px, 1px, 1px, 1px);height: 1px;margin: -1px;overflow: hidden;padding: 0;position: absolute;width: 1px;}#sk-container-id-8 div.sk-estimator {font-family: monospace;background-color: #f0f8ff;border: 1px dotted black;border-radius: 0.25em;box-sizing: border-box;margin-bottom: 0.5em;}#sk-container-id-8 div.sk-estimator:hover {background-color: #d4ebff;}#sk-container-id-8 div.sk-parallel-item::after {content: \"\";width: 100%;border-bottom: 1px solid gray;flex-grow: 1;}#sk-container-id-8 div.sk-label:hover label.sk-toggleable__label {background-color: #d4ebff;}#sk-container-id-8 div.sk-serial::before {content: \"\";position: absolute;border-left: 1px solid gray;box-sizing: border-box;top: 0;bottom: 0;left: 50%;z-index: 0;}#sk-container-id-8 div.sk-serial {display: flex;flex-direction: column;align-items: center;background-color: white;padding-right: 0.2em;padding-left: 0.2em;position: relative;}#sk-container-id-8 div.sk-item {position: relative;z-index: 1;}#sk-container-id-8 div.sk-parallel {display: flex;align-items: stretch;justify-content: center;background-color: white;position: relative;}#sk-container-id-8 div.sk-item::before, #sk-container-id-8 div.sk-parallel-item::before {content: \"\";position: absolute;border-left: 1px solid gray;box-sizing: border-box;top: 0;bottom: 0;left: 50%;z-index: -1;}#sk-container-id-8 div.sk-parallel-item {display: flex;flex-direction: column;z-index: 1;position: relative;background-color: white;}#sk-container-id-8 div.sk-parallel-item:first-child::after {align-self: flex-end;width: 50%;}#sk-container-id-8 div.sk-parallel-item:last-child::after {align-self: flex-start;width: 50%;}#sk-container-id-8 div.sk-parallel-item:only-child::after {width: 0;}#sk-container-id-8 div.sk-dashed-wrapped {border: 1px dashed gray;margin: 0 0.4em 0.5em 0.4em;box-sizing: border-box;padding-bottom: 0.4em;background-color: white;}#sk-container-id-8 div.sk-label label {font-family: monospace;font-weight: bold;display: inline-block;line-height: 1.2em;}#sk-container-id-8 div.sk-label-container {text-align: center;}#sk-container-id-8 div.sk-container {/* jupyter's `normalize.less` sets `[hidden] { display: none; }` but bootstrap.min.css set `[hidden] { display: none !important; }` so we also need the `!important` here to be able to override the default hidden behavior on the sphinx rendered scikit-learn.org. See: https://github.com/scikit-learn/scikit-learn/issues/21755 */display: inline-block !important;position: relative;}#sk-container-id-8 div.sk-text-repr-fallback {display: none;}</style><div id=\"sk-container-id-8\" class=\"sk-top-container\"><div class=\"sk-text-repr-fallback\"><pre>RandomForestClassifier(max_features=120, random_state=77)</pre><b>In a Jupyter environment, please rerun this cell to show the HTML representation or trust the notebook. <br />On GitHub, the HTML representation is unable to render, please try loading this page with nbviewer.org.</b></div><div class=\"sk-container\" hidden><div class=\"sk-item\"><div class=\"sk-estimator sk-toggleable\"><input class=\"sk-toggleable__control sk-hidden--visually\" id=\"sk-estimator-id-8\" type=\"checkbox\" checked><label for=\"sk-estimator-id-8\" class=\"sk-toggleable__label sk-toggleable__label-arrow\">RandomForestClassifier</label><div class=\"sk-toggleable__content\"><pre>RandomForestClassifier(max_features=120, random_state=77)</pre></div></div></div></div></div>"
            ]
          },
          "metadata": {},
          "execution_count": 28
        }
      ]
    },
    {
      "cell_type": "code",
      "source": [
        "#Create a model through RandomizedCV and the parameters grid\n",
        "param_grid_9={'max_features': list(range(2, 200)), \n",
        "              'n_estimators': list(range(2, 200)),\n",
        "              'min_samples_split': list(range(2, 200)),\n",
        "              'min_samples_leaf': list(range(2, 200)),\n",
        "              'max_depth': list(range(2, 200)),\n",
        "              'criterion': ('gini', 'entropy', 'log_loss')}\n",
        "model_9=RandomizedSearchCV(forestclf,param_grid_9, random_state=0,n_jobs=-1, cv=5)\n",
        "#Fit the data - 1 minutes\n",
        "model_9.fit(x_train, y_train)\n",
        "model_9.best_estimator_"
      ],
      "metadata": {
        "colab": {
          "base_uri": "https://localhost:8080/",
          "height": 91
        },
        "id": "CGUIDrovMS-e",
        "outputId": "61d0526b-aad1-4c90-d4da-fb0b14672118"
      },
      "execution_count": null,
      "outputs": [
        {
          "output_type": "execute_result",
          "data": {
            "text/plain": [
              "RandomForestClassifier(max_depth=61, max_features=152, min_samples_leaf=17,\n",
              "                       min_samples_split=51, n_estimators=178, random_state=0)"
            ],
            "text/html": [
              "<style>#sk-container-id-3 {color: black;background-color: white;}#sk-container-id-3 pre{padding: 0;}#sk-container-id-3 div.sk-toggleable {background-color: white;}#sk-container-id-3 label.sk-toggleable__label {cursor: pointer;display: block;width: 100%;margin-bottom: 0;padding: 0.3em;box-sizing: border-box;text-align: center;}#sk-container-id-3 label.sk-toggleable__label-arrow:before {content: \"▸\";float: left;margin-right: 0.25em;color: #696969;}#sk-container-id-3 label.sk-toggleable__label-arrow:hover:before {color: black;}#sk-container-id-3 div.sk-estimator:hover label.sk-toggleable__label-arrow:before {color: black;}#sk-container-id-3 div.sk-toggleable__content {max-height: 0;max-width: 0;overflow: hidden;text-align: left;background-color: #f0f8ff;}#sk-container-id-3 div.sk-toggleable__content pre {margin: 0.2em;color: black;border-radius: 0.25em;background-color: #f0f8ff;}#sk-container-id-3 input.sk-toggleable__control:checked~div.sk-toggleable__content {max-height: 200px;max-width: 100%;overflow: auto;}#sk-container-id-3 input.sk-toggleable__control:checked~label.sk-toggleable__label-arrow:before {content: \"▾\";}#sk-container-id-3 div.sk-estimator input.sk-toggleable__control:checked~label.sk-toggleable__label {background-color: #d4ebff;}#sk-container-id-3 div.sk-label input.sk-toggleable__control:checked~label.sk-toggleable__label {background-color: #d4ebff;}#sk-container-id-3 input.sk-hidden--visually {border: 0;clip: rect(1px 1px 1px 1px);clip: rect(1px, 1px, 1px, 1px);height: 1px;margin: -1px;overflow: hidden;padding: 0;position: absolute;width: 1px;}#sk-container-id-3 div.sk-estimator {font-family: monospace;background-color: #f0f8ff;border: 1px dotted black;border-radius: 0.25em;box-sizing: border-box;margin-bottom: 0.5em;}#sk-container-id-3 div.sk-estimator:hover {background-color: #d4ebff;}#sk-container-id-3 div.sk-parallel-item::after {content: \"\";width: 100%;border-bottom: 1px solid gray;flex-grow: 1;}#sk-container-id-3 div.sk-label:hover label.sk-toggleable__label {background-color: #d4ebff;}#sk-container-id-3 div.sk-serial::before {content: \"\";position: absolute;border-left: 1px solid gray;box-sizing: border-box;top: 0;bottom: 0;left: 50%;z-index: 0;}#sk-container-id-3 div.sk-serial {display: flex;flex-direction: column;align-items: center;background-color: white;padding-right: 0.2em;padding-left: 0.2em;position: relative;}#sk-container-id-3 div.sk-item {position: relative;z-index: 1;}#sk-container-id-3 div.sk-parallel {display: flex;align-items: stretch;justify-content: center;background-color: white;position: relative;}#sk-container-id-3 div.sk-item::before, #sk-container-id-3 div.sk-parallel-item::before {content: \"\";position: absolute;border-left: 1px solid gray;box-sizing: border-box;top: 0;bottom: 0;left: 50%;z-index: -1;}#sk-container-id-3 div.sk-parallel-item {display: flex;flex-direction: column;z-index: 1;position: relative;background-color: white;}#sk-container-id-3 div.sk-parallel-item:first-child::after {align-self: flex-end;width: 50%;}#sk-container-id-3 div.sk-parallel-item:last-child::after {align-self: flex-start;width: 50%;}#sk-container-id-3 div.sk-parallel-item:only-child::after {width: 0;}#sk-container-id-3 div.sk-dashed-wrapped {border: 1px dashed gray;margin: 0 0.4em 0.5em 0.4em;box-sizing: border-box;padding-bottom: 0.4em;background-color: white;}#sk-container-id-3 div.sk-label label {font-family: monospace;font-weight: bold;display: inline-block;line-height: 1.2em;}#sk-container-id-3 div.sk-label-container {text-align: center;}#sk-container-id-3 div.sk-container {/* jupyter's `normalize.less` sets `[hidden] { display: none; }` but bootstrap.min.css set `[hidden] { display: none !important; }` so we also need the `!important` here to be able to override the default hidden behavior on the sphinx rendered scikit-learn.org. See: https://github.com/scikit-learn/scikit-learn/issues/21755 */display: inline-block !important;position: relative;}#sk-container-id-3 div.sk-text-repr-fallback {display: none;}</style><div id=\"sk-container-id-3\" class=\"sk-top-container\"><div class=\"sk-text-repr-fallback\"><pre>RandomForestClassifier(max_depth=61, max_features=152, min_samples_leaf=17,\n",
              "                       min_samples_split=51, n_estimators=178, random_state=0)</pre><b>In a Jupyter environment, please rerun this cell to show the HTML representation or trust the notebook. <br />On GitHub, the HTML representation is unable to render, please try loading this page with nbviewer.org.</b></div><div class=\"sk-container\" hidden><div class=\"sk-item\"><div class=\"sk-estimator sk-toggleable\"><input class=\"sk-toggleable__control sk-hidden--visually\" id=\"sk-estimator-id-3\" type=\"checkbox\" checked><label for=\"sk-estimator-id-3\" class=\"sk-toggleable__label sk-toggleable__label-arrow\">RandomForestClassifier</label><div class=\"sk-toggleable__content\"><pre>RandomForestClassifier(max_depth=61, max_features=152, min_samples_leaf=17,\n",
              "                       min_samples_split=51, n_estimators=178, random_state=0)</pre></div></div></div></div></div>"
            ]
          },
          "metadata": {},
          "execution_count": 22
        }
      ]
    },
    {
      "cell_type": "markdown",
      "source": [
        "### Training and Testing the Model"
      ],
      "metadata": {
        "id": "snBWWeasC3_P"
      }
    },
    {
      "cell_type": "code",
      "source": [
        "#Train the data using RandomForestClassifier\n",
        "#clf2 = RandomForestClassifier(max_depth = 7, random_state = 77, criterion = \"entropy\", \n",
        "                              #min_samples_split = 20, min_samples_leaf = 6)\n",
        "#clf2 = RandomForestClassifier(random_state = 77, n_estimators = 100, criterion = \"entropy\",\n",
        "                              #min_samples_split = 2, min_samples_leaf = 1, max_features = \"sqrt\") - 66%\n",
        "#clf2 = RandomForestClassifier(random_state = 77, n_estimators = 42, min_samples_split = 6, criterion=\"entropy\",\n",
        "                              #min_samples_leaf = 9, max_features = \"sqrt\") - 63%\n",
        "clf2 = RandomForestClassifier(random_state = 0, n_estimators = 170, min_samples_split = 7, criterion=\"entropy\",\n",
        "                              min_samples_leaf = 7, max_features = \"sqrt\")\n",
        "\n",
        "#Fit the data\n",
        "clf2.fit(x_train, y_train)\n",
        "\n",
        "#Test the dataset using the RandomForestClassifier\n",
        "y_pred2 = clf2.predict(x_test)\n",
        "\n",
        "#print the metrics to give a baseline score\n",
        "print('Training score:', clf2.score(x_train, y_train))\n",
        "print('Accuracy:', accuracy_score(y_test, y_pred2))\n",
        "print('Recall:', recall_score(y_test, y_pred2, average = 'weighted'))\n",
        "print('Precision:', precision_score(y_test, y_pred2, average='micro'))\n",
        "print('F1_score:', f1_score(y_test, y_pred2, average = 'macro'))"
      ],
      "metadata": {
        "colab": {
          "base_uri": "https://localhost:8080/"
        },
        "id": "Oxn06quv2gzO",
        "outputId": "9d6bcf3b-b7b8-4842-830e-9db33ed455b2"
      },
      "execution_count": null,
      "outputs": [
        {
          "output_type": "stream",
          "name": "stdout",
          "text": [
            "Training score: 0.9671361502347418\n",
            "Accuracy: 0.6494522691705791\n",
            "Recall: 0.6494522691705791\n",
            "Precision: 0.6494522691705791\n",
            "F1_score: 0.6437729323997843\n"
          ]
        }
      ]
    },
    {
      "cell_type": "code",
      "source": [
        "#print the classification report\n",
        "print(classification_report(y_pred2,y_test))"
      ],
      "metadata": {
        "colab": {
          "base_uri": "https://localhost:8080/"
        },
        "id": "zETCfV_k860T",
        "outputId": "7bd31bff-aa78-419c-a611-d6211f0da9a9"
      },
      "execution_count": null,
      "outputs": [
        {
          "output_type": "stream",
          "name": "stdout",
          "text": [
            "              precision    recall  f1-score   support\n",
            "\n",
            "           0       0.51      0.59      0.55        86\n",
            "           1       0.65      0.66      0.66       125\n",
            "           2       0.71      0.74      0.72        95\n",
            "           3       0.52      0.53      0.52        94\n",
            "           4       0.81      0.68      0.74       134\n",
            "           5       0.68      0.67      0.67       105\n",
            "\n",
            "    accuracy                           0.65       639\n",
            "   macro avg       0.65      0.65      0.64       639\n",
            "weighted avg       0.66      0.65      0.65       639\n",
            "\n"
          ]
        }
      ]
    },
    {
      "cell_type": "code",
      "source": [
        "#print the confusion matrix as an image\n",
        "confmat2 = confusion_matrix(y_test, y_pred2)\n",
        "\n",
        "#put the confusion matrix into a dataframe\n",
        "df_confmat2 = pd.DataFrame(confmat2, index = classes, columns = classes)\n",
        "\n",
        "#plot the confusion matrix using a heatmap\n",
        "plt.figure(figsize = (5,5))\n",
        "confmat_plot_2 = sns.heatmap(df_confmat2, annot=True)"
      ],
      "metadata": {
        "colab": {
          "base_uri": "https://localhost:8080/",
          "height": 320
        },
        "id": "zNxbMQSK7yHa",
        "outputId": "0252a935-f41c-4d40-90de-5a384f3667a6"
      },
      "execution_count": null,
      "outputs": [
        {
          "output_type": "display_data",
          "data": {
            "text/plain": [
              "<Figure size 360x360 with 2 Axes>"
            ],
            "image/png": "[encoded data removed]"
          },
          "metadata": {
            "needs_background": "light"
          }
        }
      ]
    },
    {
      "cell_type": "code",
      "source": [
        "# Tree Visualisation\n",
        "from sklearn.tree import export_graphviz\n",
        "from IPython.display import Image\n",
        "import graphviz\n",
        "\n",
        "# Export the first three decision trees from the forest\n",
        "# Code adapted from: https://www.datacamp.com/tutorial/random-forests-classifier-python\n",
        "for i in range(3):\n",
        "    tree = clf2.estimators_[i]\n",
        "    dot_data = export_graphviz(tree,\n",
        "                               filled=True,  \n",
        "                               max_depth=2, \n",
        "                               impurity=False, \n",
        "                               proportion=True)\n",
        "    graph = graphviz.Source(dot_data)\n",
        "    display(graph)"
      ],
      "metadata": {
        "colab": {
          "base_uri": "https://localhost:8080/",
          "height": 1000
        },
        "id": "Bds2bFcN4hSG",
        "outputId": "79afdf04-1494-4c17-9a70-a9c1b62622e8"
      },
      "execution_count": null,
      "outputs": [
        {
          "output_type": "display_data",
          "data": {
            "text/plain": [
              "<graphviz.files.Source at 0x7f67f50852e0>"
            ],
            "image/svg+xml": "<?xml version=\"1.0\" encoding=\"UTF-8\" standalone=\"no\"?>\n<!DOCTYPE svg PUBLIC \"-//W3C//DTD SVG 1.1//EN\"\n \"http://www.w3.org/Graphics/SVG/1.1/DTD/svg11.dtd\">\n<!-- Generated by graphviz version 2.43.0 (0)\n -->\n<!-- Title: Tree Pages: 1 -->\n<svg width=\"1291pt\" height=\"311pt\"\n viewBox=\"0.00 0.00 1291.00 311.00\" xmlns=\"http://www.w3.org/2000/svg\" xmlns:xlink=\"http://www.w3.org/1999/xlink\">\n<g id=\"graph0\" class=\"graph\" transform=\"scale(1 1) rotate(0) translate(4 307)\">\n<title>Tree</title>\n<polygon fill=\"white\" stroke=\"transparent\" points=\"-4,4 -4,-307 1287,-307 1287,4 -4,4\"/>\n<!-- 0 -->\n<g id=\"node1\" class=\"node\">\n<title>0</title>\n<polygon fill=\"#fffffe\" stroke=\"black\" points=\"791.5,-303 486.5,-303 486.5,-250 791.5,-250 791.5,-303\"/>\n<text text-anchor=\"middle\" x=\"639\" y=\"-287.8\" font-family=\"Helvetica,sans-Serif\" font-size=\"14.00\">x[921] &lt;= 0.52</text>\n<text text-anchor=\"middle\" x=\"639\" y=\"-272.8\" font-family=\"Helvetica,sans-Serif\" font-size=\"14.00\">samples = 100.0%</text>\n<text text-anchor=\"middle\" x=\"639\" y=\"-257.8\" font-family=\"Helvetica,sans-Serif\" font-size=\"14.00\">value = [0.174, 0.16, 0.161, 0.167, 0.165, 0.172]</text>\n</g>\n<!-- 1 -->\n<g id=\"node2\" class=\"node\">\n<title>1</title>\n<polygon fill=\"#feffff\" stroke=\"black\" points=\"634,-214 322,-214 322,-161 634,-161 634,-214\"/>\n<text text-anchor=\"middle\" x=\"478\" y=\"-198.8\" font-family=\"Helvetica,sans-Serif\" font-size=\"14.00\">x[3099] &lt;= 0.52</text>\n<text text-anchor=\"middle\" x=\"478\" y=\"-183.8\" font-family=\"Helvetica,sans-Serif\" font-size=\"14.00\">samples = 46.2%</text>\n<text text-anchor=\"middle\" x=\"478\" y=\"-168.8\" font-family=\"Helvetica,sans-Serif\" font-size=\"14.00\">value = [0.129, 0.242, 0.243, 0.246, 0.067, 0.073]</text>\n</g>\n<!-- 0&#45;&gt;1 -->\n<g id=\"edge1\" class=\"edge\">\n<title>0&#45;&gt;1</title>\n<path fill=\"none\" stroke=\"black\" d=\"M591.57,-249.87C573.63,-240.18 553.04,-229.05 534.37,-218.96\"/>\n<polygon fill=\"black\" stroke=\"black\" points=\"535.84,-215.77 525.37,-214.1 532.51,-221.93 535.84,-215.77\"/>\n<text text-anchor=\"middle\" x=\"532.52\" y=\"-234.36\" font-family=\"Helvetica,sans-Serif\" font-size=\"14.00\">True</text>\n</g>\n<!-- 146 -->\n<g id=\"node9\" class=\"node\">\n<title>146</title>\n<polygon fill=\"#fffdfe\" stroke=\"black\" points=\"949.5,-214 652.5,-214 652.5,-161 949.5,-161 949.5,-214\"/>\n<text text-anchor=\"middle\" x=\"801\" y=\"-198.8\" font-family=\"Helvetica,sans-Serif\" font-size=\"14.00\">x[10519] &lt;= 0.476</text>\n<text text-anchor=\"middle\" x=\"801\" y=\"-183.8\" font-family=\"Helvetica,sans-Serif\" font-size=\"14.00\">samples = 53.8%</text>\n<text text-anchor=\"middle\" x=\"801\" y=\"-168.8\" font-family=\"Helvetica,sans-Serif\" font-size=\"14.00\">value = [0.213, 0.091, 0.091, 0.1, 0.249, 0.256]</text>\n</g>\n<!-- 0&#45;&gt;146 -->\n<g id=\"edge8\" class=\"edge\">\n<title>0&#45;&gt;146</title>\n<path fill=\"none\" stroke=\"black\" d=\"M686.73,-249.87C704.78,-240.18 725.49,-229.05 744.28,-218.96\"/>\n<polygon fill=\"black\" stroke=\"black\" points=\"746.18,-221.91 753.33,-214.1 742.87,-215.75 746.18,-221.91\"/>\n<text text-anchor=\"middle\" x=\"746.12\" y=\"-234.34\" font-family=\"Helvetica,sans-Serif\" font-size=\"14.00\">False</text>\n</g>\n<!-- 2 -->\n<g id=\"node3\" class=\"node\">\n<title>2</title>\n<polygon fill=\"#ecfdf3\" stroke=\"black\" points=\"312,-125 0,-125 0,-72 312,-72 312,-125\"/>\n<text text-anchor=\"middle\" x=\"156\" y=\"-109.8\" font-family=\"Helvetica,sans-Serif\" font-size=\"14.00\">x[12125] &lt;= 0.382</text>\n<text text-anchor=\"middle\" x=\"156\" y=\"-94.8\" font-family=\"Helvetica,sans-Serif\" font-size=\"14.00\">samples = 24.9%</text>\n<text text-anchor=\"middle\" x=\"156\" y=\"-79.8\" font-family=\"Helvetica,sans-Serif\" font-size=\"14.00\">value = [0.112, 0.124, 0.364, 0.297, 0.034, 0.068]</text>\n</g>\n<!-- 1&#45;&gt;2 -->\n<g id=\"edge2\" class=\"edge\">\n<title>1&#45;&gt;2</title>\n<path fill=\"none\" stroke=\"black\" d=\"M383.57,-160.98C344.82,-150.52 299.83,-138.36 260.14,-127.64\"/>\n<polygon fill=\"black\" stroke=\"black\" points=\"261,-124.24 250.43,-125.01 259.17,-131 261,-124.24\"/>\n</g>\n<!-- 79 -->\n<g id=\"node6\" class=\"node\">\n<title>79</title>\n<polygon fill=\"#e7f9ce\" stroke=\"black\" points=\"627.5,-125 330.5,-125 330.5,-72 627.5,-72 627.5,-125\"/>\n<text text-anchor=\"middle\" x=\"479\" y=\"-109.8\" font-family=\"Helvetica,sans-Serif\" font-size=\"14.00\">x[1169] &lt;= 0.531</text>\n<text text-anchor=\"middle\" x=\"479\" y=\"-94.8\" font-family=\"Helvetica,sans-Serif\" font-size=\"14.00\">samples = 21.3%</text>\n<text text-anchor=\"middle\" x=\"479\" y=\"-79.8\" font-family=\"Helvetica,sans-Serif\" font-size=\"14.00\">value = [0.15, 0.384, 0.097, 0.184, 0.106, 0.08]</text>\n</g>\n<!-- 1&#45;&gt;79 -->\n<g id=\"edge5\" class=\"edge\">\n<title>1&#45;&gt;79</title>\n<path fill=\"none\" stroke=\"black\" d=\"M478.29,-160.87C478.39,-152.89 478.49,-143.93 478.59,-135.38\"/>\n<polygon fill=\"black\" stroke=\"black\" points=\"482.09,-135.29 478.7,-125.25 475.09,-135.21 482.09,-135.29\"/>\n</g>\n<!-- 3 -->\n<g id=\"node4\" class=\"node\">\n<title>3</title>\n<polygon fill=\"#c0c0c0\" stroke=\"black\" points=\"147,-36 93,-36 93,0 147,0 147,-36\"/>\n<text text-anchor=\"middle\" x=\"120\" y=\"-14.3\" font-family=\"Helvetica,sans-Serif\" font-size=\"14.00\">(...)</text>\n</g>\n<!-- 2&#45;&gt;3 -->\n<g id=\"edge3\" class=\"edge\">\n<title>2&#45;&gt;3</title>\n<path fill=\"none\" stroke=\"black\" d=\"M144.21,-71.8C140.34,-63.35 136.03,-53.95 132.13,-45.45\"/>\n<polygon fill=\"black\" stroke=\"black\" points=\"135.3,-43.96 127.95,-36.33 128.93,-46.88 135.3,-43.96\"/>\n</g>\n<!-- 20 -->\n<g id=\"node5\" class=\"node\">\n<title>20</title>\n<polygon fill=\"#c0c0c0\" stroke=\"black\" points=\"219,-36 165,-36 165,0 219,0 219,-36\"/>\n<text text-anchor=\"middle\" x=\"192\" y=\"-14.3\" font-family=\"Helvetica,sans-Serif\" font-size=\"14.00\">(...)</text>\n</g>\n<!-- 2&#45;&gt;20 -->\n<g id=\"edge4\" class=\"edge\">\n<title>2&#45;&gt;20</title>\n<path fill=\"none\" stroke=\"black\" d=\"M167.79,-71.8C171.66,-63.35 175.97,-53.95 179.87,-45.45\"/>\n<polygon fill=\"black\" stroke=\"black\" points=\"183.07,-46.88 184.05,-36.33 176.7,-43.96 183.07,-46.88\"/>\n</g>\n<!-- 80 -->\n<g id=\"node7\" class=\"node\">\n<title>80</title>\n<polygon fill=\"#c0c0c0\" stroke=\"black\" points=\"470,-36 416,-36 416,0 470,0 470,-36\"/>\n<text text-anchor=\"middle\" x=\"443\" y=\"-14.3\" font-family=\"Helvetica,sans-Serif\" font-size=\"14.00\">(...)</text>\n</g>\n<!-- 79&#45;&gt;80 -->\n<g id=\"edge6\" class=\"edge\">\n<title>79&#45;&gt;80</title>\n<path fill=\"none\" stroke=\"black\" d=\"M467.21,-71.8C463.34,-63.35 459.03,-53.95 455.13,-45.45\"/>\n<polygon fill=\"black\" stroke=\"black\" points=\"458.3,-43.96 450.95,-36.33 451.93,-46.88 458.3,-43.96\"/>\n</g>\n<!-- 103 -->\n<g id=\"node8\" class=\"node\">\n<title>103</title>\n<polygon fill=\"#c0c0c0\" stroke=\"black\" points=\"542,-36 488,-36 488,0 542,0 542,-36\"/>\n<text text-anchor=\"middle\" x=\"515\" y=\"-14.3\" font-family=\"Helvetica,sans-Serif\" font-size=\"14.00\">(...)</text>\n</g>\n<!-- 79&#45;&gt;103 -->\n<g id=\"edge7\" class=\"edge\">\n<title>79&#45;&gt;103</title>\n<path fill=\"none\" stroke=\"black\" d=\"M490.79,-71.8C494.66,-63.35 498.97,-53.95 502.87,-45.45\"/>\n<polygon fill=\"black\" stroke=\"black\" points=\"506.07,-46.88 507.05,-36.33 499.7,-43.96 506.07,-46.88\"/>\n</g>\n<!-- 147 -->\n<g id=\"node10\" class=\"node\">\n<title>147</title>\n<polygon fill=\"#ddcaf8\" stroke=\"black\" points=\"952.5,-125 647.5,-125 647.5,-72 952.5,-72 952.5,-125\"/>\n<text text-anchor=\"middle\" x=\"800\" y=\"-109.8\" font-family=\"Helvetica,sans-Serif\" font-size=\"14.00\">x[771] &lt;= 0.586</text>\n<text text-anchor=\"middle\" x=\"800\" y=\"-94.8\" font-family=\"Helvetica,sans-Serif\" font-size=\"14.00\">samples = 23.1%</text>\n<text text-anchor=\"middle\" x=\"800\" y=\"-79.8\" font-family=\"Helvetica,sans-Serif\" font-size=\"14.00\">value = [0.161, 0.08, 0.075, 0.042, 0.427, 0.215]</text>\n</g>\n<!-- 146&#45;&gt;147 -->\n<g id=\"edge9\" class=\"edge\">\n<title>146&#45;&gt;147</title>\n<path fill=\"none\" stroke=\"black\" d=\"M800.71,-160.87C800.61,-152.89 800.51,-143.93 800.41,-135.38\"/>\n<polygon fill=\"black\" stroke=\"black\" points=\"803.91,-135.21 800.3,-125.25 796.91,-135.29 803.91,-135.21\"/>\n</g>\n<!-- 210 -->\n<g id=\"node13\" class=\"node\">\n<title>210</title>\n<polygon fill=\"#fef6fb\" stroke=\"black\" points=\"1283,-125 971,-125 971,-72 1283,-72 1283,-125\"/>\n<text text-anchor=\"middle\" x=\"1127\" y=\"-109.8\" font-family=\"Helvetica,sans-Serif\" font-size=\"14.00\">x[386] &lt;= 0.684</text>\n<text text-anchor=\"middle\" x=\"1127\" y=\"-94.8\" font-family=\"Helvetica,sans-Serif\" font-size=\"14.00\">samples = 30.7%</text>\n<text text-anchor=\"middle\" x=\"1127\" y=\"-79.8\" font-family=\"Helvetica,sans-Serif\" font-size=\"14.00\">value = [0.252, 0.099, 0.103, 0.143, 0.117, 0.286]</text>\n</g>\n<!-- 146&#45;&gt;210 -->\n<g id=\"edge12\" class=\"edge\">\n<title>146&#45;&gt;210</title>\n<path fill=\"none\" stroke=\"black\" d=\"M896.61,-160.98C935.83,-150.52 981.38,-138.36 1021.57,-127.64\"/>\n<polygon fill=\"black\" stroke=\"black\" points=\"1022.63,-130.97 1031.39,-125.01 1020.83,-124.21 1022.63,-130.97\"/>\n</g>\n<!-- 148 -->\n<g id=\"node11\" class=\"node\">\n<title>148</title>\n<polygon fill=\"#c0c0c0\" stroke=\"black\" points=\"791,-36 737,-36 737,0 791,0 791,-36\"/>\n<text text-anchor=\"middle\" x=\"764\" y=\"-14.3\" font-family=\"Helvetica,sans-Serif\" font-size=\"14.00\">(...)</text>\n</g>\n<!-- 147&#45;&gt;148 -->\n<g id=\"edge10\" class=\"edge\">\n<title>147&#45;&gt;148</title>\n<path fill=\"none\" stroke=\"black\" d=\"M788.21,-71.8C784.34,-63.35 780.03,-53.95 776.13,-45.45\"/>\n<polygon fill=\"black\" stroke=\"black\" points=\"779.3,-43.96 771.95,-36.33 772.93,-46.88 779.3,-43.96\"/>\n</g>\n<!-- 175 -->\n<g id=\"node12\" class=\"node\">\n<title>175</title>\n<polygon fill=\"#c0c0c0\" stroke=\"black\" points=\"863,-36 809,-36 809,0 863,0 863,-36\"/>\n<text text-anchor=\"middle\" x=\"836\" y=\"-14.3\" font-family=\"Helvetica,sans-Serif\" font-size=\"14.00\">(...)</text>\n</g>\n<!-- 147&#45;&gt;175 -->\n<g id=\"edge11\" class=\"edge\">\n<title>147&#45;&gt;175</title>\n<path fill=\"none\" stroke=\"black\" d=\"M811.79,-71.8C815.66,-63.35 819.97,-53.95 823.87,-45.45\"/>\n<polygon fill=\"black\" stroke=\"black\" points=\"827.07,-46.88 828.05,-36.33 820.7,-43.96 827.07,-46.88\"/>\n</g>\n<!-- 211 -->\n<g id=\"node14\" class=\"node\">\n<title>211</title>\n<polygon fill=\"#c0c0c0\" stroke=\"black\" points=\"1118,-36 1064,-36 1064,0 1118,0 1118,-36\"/>\n<text text-anchor=\"middle\" x=\"1091\" y=\"-14.3\" font-family=\"Helvetica,sans-Serif\" font-size=\"14.00\">(...)</text>\n</g>\n<!-- 210&#45;&gt;211 -->\n<g id=\"edge13\" class=\"edge\">\n<title>210&#45;&gt;211</title>\n<path fill=\"none\" stroke=\"black\" d=\"M1115.21,-71.8C1111.34,-63.35 1107.03,-53.95 1103.13,-45.45\"/>\n<polygon fill=\"black\" stroke=\"black\" points=\"1106.3,-43.96 1098.95,-36.33 1099.93,-46.88 1106.3,-43.96\"/>\n</g>\n<!-- 292 -->\n<g id=\"node15\" class=\"node\">\n<title>292</title>\n<polygon fill=\"#c0c0c0\" stroke=\"black\" points=\"1190,-36 1136,-36 1136,0 1190,0 1190,-36\"/>\n<text text-anchor=\"middle\" x=\"1163\" y=\"-14.3\" font-family=\"Helvetica,sans-Serif\" font-size=\"14.00\">(...)</text>\n</g>\n<!-- 210&#45;&gt;292 -->\n<g id=\"edge14\" class=\"edge\">\n<title>210&#45;&gt;292</title>\n<path fill=\"none\" stroke=\"black\" d=\"M1138.79,-71.8C1142.66,-63.35 1146.97,-53.95 1150.87,-45.45\"/>\n<polygon fill=\"black\" stroke=\"black\" points=\"1154.07,-46.88 1155.05,-36.33 1147.7,-43.96 1154.07,-46.88\"/>\n</g>\n</g>\n</svg>\n"
          },
          "metadata": {}
        },
        {
          "output_type": "display_data",
          "data": {
            "text/plain": [
              "<graphviz.files.Source at 0x7f67f5085b80>"
            ],
            "image/svg+xml": "<?xml version=\"1.0\" encoding=\"UTF-8\" standalone=\"no\"?>\n<!DOCTYPE svg PUBLIC \"-//W3C//DTD SVG 1.1//EN\"\n \"http://www.w3.org/Graphics/SVG/1.1/DTD/svg11.dtd\">\n<!-- Generated by graphviz version 2.43.0 (0)\n -->\n<!-- Title: Tree Pages: 1 -->\n<svg width=\"1310pt\" height=\"311pt\"\n viewBox=\"0.00 0.00 1310.00 311.00\" xmlns=\"http://www.w3.org/2000/svg\" xmlns:xlink=\"http://www.w3.org/1999/xlink\">\n<g id=\"graph0\" class=\"graph\" transform=\"scale(1 1) rotate(0) translate(4 307)\">\n<title>Tree</title>\n<polygon fill=\"white\" stroke=\"transparent\" points=\"-4,4 -4,-307 1306,-307 1306,4 -4,4\"/>\n<!-- 0 -->\n<g id=\"node1\" class=\"node\">\n<title>0</title>\n<polygon fill=\"#fffeff\" stroke=\"black\" points=\"807,-303 495,-303 495,-250 807,-250 807,-303\"/>\n<text text-anchor=\"middle\" x=\"651\" y=\"-287.8\" font-family=\"Helvetica,sans-Serif\" font-size=\"14.00\">x[537] &lt;= 0.551</text>\n<text text-anchor=\"middle\" x=\"651\" y=\"-272.8\" font-family=\"Helvetica,sans-Serif\" font-size=\"14.00\">samples = 100.0%</text>\n<text text-anchor=\"middle\" x=\"651\" y=\"-257.8\" font-family=\"Helvetica,sans-Serif\" font-size=\"14.00\">value = [0.169, 0.142, 0.154, 0.181, 0.183, 0.171]</text>\n</g>\n<!-- 1 -->\n<g id=\"node2\" class=\"node\">\n<title>1</title>\n<polygon fill=\"#f4f9fe\" stroke=\"black\" points=\"642,-214 330,-214 330,-161 642,-161 642,-214\"/>\n<text text-anchor=\"middle\" x=\"486\" y=\"-198.8\" font-family=\"Helvetica,sans-Serif\" font-size=\"14.00\">x[1542] &lt;= 0.586</text>\n<text text-anchor=\"middle\" x=\"486\" y=\"-183.8\" font-family=\"Helvetica,sans-Serif\" font-size=\"14.00\">samples = 56.0%</text>\n<text text-anchor=\"middle\" x=\"486\" y=\"-168.8\" font-family=\"Helvetica,sans-Serif\" font-size=\"14.00\">value = [0.124, 0.205, 0.221, 0.265, 0.094, 0.091]</text>\n</g>\n<!-- 0&#45;&gt;1 -->\n<g id=\"edge1\" class=\"edge\">\n<title>0&#45;&gt;1</title>\n<path fill=\"none\" stroke=\"black\" d=\"M602.39,-249.87C583.92,-240.13 562.72,-228.95 543.51,-218.82\"/>\n<polygon fill=\"black\" stroke=\"black\" points=\"545.03,-215.67 534.55,-214.1 541.76,-221.86 545.03,-215.67\"/>\n<text text-anchor=\"middle\" x=\"541.94\" y=\"-234.28\" font-family=\"Helvetica,sans-Serif\" font-size=\"14.00\">True</text>\n</g>\n<!-- 176 -->\n<g id=\"node9\" class=\"node\">\n<title>176</title>\n<polygon fill=\"#fbf8fe\" stroke=\"black\" points=\"968.5,-214 663.5,-214 663.5,-161 968.5,-161 968.5,-214\"/>\n<text text-anchor=\"middle\" x=\"816\" y=\"-198.8\" font-family=\"Helvetica,sans-Serif\" font-size=\"14.00\">x[10526] &lt;= 0.492</text>\n<text text-anchor=\"middle\" x=\"816\" y=\"-183.8\" font-family=\"Helvetica,sans-Serif\" font-size=\"14.00\">samples = 44.0%</text>\n<text text-anchor=\"middle\" x=\"816\" y=\"-168.8\" font-family=\"Helvetica,sans-Serif\" font-size=\"14.00\">value = [0.225, 0.064, 0.07, 0.075, 0.295, 0.271]</text>\n</g>\n<!-- 0&#45;&gt;176 -->\n<g id=\"edge8\" class=\"edge\">\n<title>0&#45;&gt;176</title>\n<path fill=\"none\" stroke=\"black\" d=\"M699.61,-249.87C718.08,-240.13 739.28,-228.95 758.49,-218.82\"/>\n<polygon fill=\"black\" stroke=\"black\" points=\"760.24,-221.86 767.45,-214.1 756.97,-215.67 760.24,-221.86\"/>\n<text text-anchor=\"middle\" x=\"760.06\" y=\"-234.28\" font-family=\"Helvetica,sans-Serif\" font-size=\"14.00\">False</text>\n</g>\n<!-- 2 -->\n<g id=\"node3\" class=\"node\">\n<title>2</title>\n<polygon fill=\"#f8fcfe\" stroke=\"black\" points=\"312,-125 0,-125 0,-72 312,-72 312,-125\"/>\n<text text-anchor=\"middle\" x=\"156\" y=\"-109.8\" font-family=\"Helvetica,sans-Serif\" font-size=\"14.00\">x[12045] &lt;= 0.375</text>\n<text text-anchor=\"middle\" x=\"156\" y=\"-94.8\" font-family=\"Helvetica,sans-Serif\" font-size=\"14.00\">samples = 42.3%</text>\n<text text-anchor=\"middle\" x=\"156\" y=\"-79.8\" font-family=\"Helvetica,sans-Serif\" font-size=\"14.00\">value = [0.127, 0.134, 0.276, 0.301, 0.062, 0.101]</text>\n</g>\n<!-- 1&#45;&gt;2 -->\n<g id=\"edge2\" class=\"edge\">\n<title>1&#45;&gt;2</title>\n<path fill=\"none\" stroke=\"black\" d=\"M389.22,-160.98C349.43,-150.49 303.21,-138.31 262.47,-127.57\"/>\n<polygon fill=\"black\" stroke=\"black\" points=\"263.34,-124.18 252.78,-125.01 261.56,-130.95 263.34,-124.18\"/>\n</g>\n<!-- 135 -->\n<g id=\"node6\" class=\"node\">\n<title>135</title>\n<polygon fill=\"#e3f7c6\" stroke=\"black\" points=\"642,-125 330,-125 330,-72 642,-72 642,-125\"/>\n<text text-anchor=\"middle\" x=\"486\" y=\"-109.8\" font-family=\"Helvetica,sans-Serif\" font-size=\"14.00\">x[2082] &lt;= 0.52</text>\n<text text-anchor=\"middle\" x=\"486\" y=\"-94.8\" font-family=\"Helvetica,sans-Serif\" font-size=\"14.00\">samples = 13.7%</text>\n<text text-anchor=\"middle\" x=\"486\" y=\"-79.8\" font-family=\"Helvetica,sans-Serif\" font-size=\"14.00\">value = [0.116, 0.427, 0.049, 0.154, 0.195, 0.058]</text>\n</g>\n<!-- 1&#45;&gt;135 -->\n<g id=\"edge5\" class=\"edge\">\n<title>1&#45;&gt;135</title>\n<path fill=\"none\" stroke=\"black\" d=\"M486,-160.87C486,-152.89 486,-143.93 486,-135.38\"/>\n<polygon fill=\"black\" stroke=\"black\" points=\"489.5,-135.25 486,-125.25 482.5,-135.25 489.5,-135.25\"/>\n</g>\n<!-- 3 -->\n<g id=\"node4\" class=\"node\">\n<title>3</title>\n<polygon fill=\"#c0c0c0\" stroke=\"black\" points=\"147,-36 93,-36 93,0 147,0 147,-36\"/>\n<text text-anchor=\"middle\" x=\"120\" y=\"-14.3\" font-family=\"Helvetica,sans-Serif\" font-size=\"14.00\">(...)</text>\n</g>\n<!-- 2&#45;&gt;3 -->\n<g id=\"edge3\" class=\"edge\">\n<title>2&#45;&gt;3</title>\n<path fill=\"none\" stroke=\"black\" d=\"M144.21,-71.8C140.34,-63.35 136.03,-53.95 132.13,-45.45\"/>\n<polygon fill=\"black\" stroke=\"black\" points=\"135.3,-43.96 127.95,-36.33 128.93,-46.88 135.3,-43.96\"/>\n</g>\n<!-- 56 -->\n<g id=\"node5\" class=\"node\">\n<title>56</title>\n<polygon fill=\"#c0c0c0\" stroke=\"black\" points=\"219,-36 165,-36 165,0 219,0 219,-36\"/>\n<text text-anchor=\"middle\" x=\"192\" y=\"-14.3\" font-family=\"Helvetica,sans-Serif\" font-size=\"14.00\">(...)</text>\n</g>\n<!-- 2&#45;&gt;56 -->\n<g id=\"edge4\" class=\"edge\">\n<title>2&#45;&gt;56</title>\n<path fill=\"none\" stroke=\"black\" d=\"M167.79,-71.8C171.66,-63.35 175.97,-53.95 179.87,-45.45\"/>\n<polygon fill=\"black\" stroke=\"black\" points=\"183.07,-46.88 184.05,-36.33 176.7,-43.96 183.07,-46.88\"/>\n</g>\n<!-- 136 -->\n<g id=\"node7\" class=\"node\">\n<title>136</title>\n<polygon fill=\"#c0c0c0\" stroke=\"black\" points=\"477,-36 423,-36 423,0 477,0 477,-36\"/>\n<text text-anchor=\"middle\" x=\"450\" y=\"-14.3\" font-family=\"Helvetica,sans-Serif\" font-size=\"14.00\">(...)</text>\n</g>\n<!-- 135&#45;&gt;136 -->\n<g id=\"edge6\" class=\"edge\">\n<title>135&#45;&gt;136</title>\n<path fill=\"none\" stroke=\"black\" d=\"M474.21,-71.8C470.34,-63.35 466.03,-53.95 462.13,-45.45\"/>\n<polygon fill=\"black\" stroke=\"black\" points=\"465.3,-43.96 457.95,-36.33 458.93,-46.88 465.3,-43.96\"/>\n</g>\n<!-- 159 -->\n<g id=\"node8\" class=\"node\">\n<title>159</title>\n<polygon fill=\"#c0c0c0\" stroke=\"black\" points=\"549,-36 495,-36 495,0 549,0 549,-36\"/>\n<text text-anchor=\"middle\" x=\"522\" y=\"-14.3\" font-family=\"Helvetica,sans-Serif\" font-size=\"14.00\">(...)</text>\n</g>\n<!-- 135&#45;&gt;159 -->\n<g id=\"edge7\" class=\"edge\">\n<title>135&#45;&gt;159</title>\n<path fill=\"none\" stroke=\"black\" d=\"M497.79,-71.8C501.66,-63.35 505.97,-53.95 509.87,-45.45\"/>\n<polygon fill=\"black\" stroke=\"black\" points=\"513.07,-46.88 514.05,-36.33 506.7,-43.96 513.07,-46.88\"/>\n</g>\n<!-- 177 -->\n<g id=\"node10\" class=\"node\">\n<title>177</title>\n<polygon fill=\"#ceb2f5\" stroke=\"black\" points=\"972,-125 660,-125 660,-72 972,-72 972,-125\"/>\n<text text-anchor=\"middle\" x=\"816\" y=\"-109.8\" font-family=\"Helvetica,sans-Serif\" font-size=\"14.00\">x[6845] &lt;= 0.335</text>\n<text text-anchor=\"middle\" x=\"816\" y=\"-94.8\" font-family=\"Helvetica,sans-Serif\" font-size=\"14.00\">samples = 19.9%</text>\n<text text-anchor=\"middle\" x=\"816\" y=\"-79.8\" font-family=\"Helvetica,sans-Serif\" font-size=\"14.00\">value = [0.138, 0.059, 0.053, 0.029, 0.515, 0.206]</text>\n</g>\n<!-- 176&#45;&gt;177 -->\n<g id=\"edge9\" class=\"edge\">\n<title>176&#45;&gt;177</title>\n<path fill=\"none\" stroke=\"black\" d=\"M816,-160.87C816,-152.89 816,-143.93 816,-135.38\"/>\n<polygon fill=\"black\" stroke=\"black\" points=\"819.5,-135.25 816,-125.25 812.5,-135.25 819.5,-135.25\"/>\n</g>\n<!-- 234 -->\n<g id=\"node13\" class=\"node\">\n<title>234</title>\n<polygon fill=\"#fef7fb\" stroke=\"black\" points=\"1302,-125 990,-125 990,-72 1302,-72 1302,-125\"/>\n<text text-anchor=\"middle\" x=\"1146\" y=\"-109.8\" font-family=\"Helvetica,sans-Serif\" font-size=\"14.00\">x[1956] &lt;= 0.657</text>\n<text text-anchor=\"middle\" x=\"1146\" y=\"-94.8\" font-family=\"Helvetica,sans-Serif\" font-size=\"14.00\">samples = 24.1%</text>\n<text text-anchor=\"middle\" x=\"1146\" y=\"-79.8\" font-family=\"Helvetica,sans-Serif\" font-size=\"14.00\">value = [0.296, 0.069, 0.083, 0.112, 0.117, 0.323]</text>\n</g>\n<!-- 176&#45;&gt;234 -->\n<g id=\"edge12\" class=\"edge\">\n<title>176&#45;&gt;234</title>\n<path fill=\"none\" stroke=\"black\" d=\"M912.78,-160.98C952.57,-150.49 998.79,-138.31 1039.53,-127.57\"/>\n<polygon fill=\"black\" stroke=\"black\" points=\"1040.44,-130.95 1049.22,-125.01 1038.66,-124.18 1040.44,-130.95\"/>\n</g>\n<!-- 178 -->\n<g id=\"node11\" class=\"node\">\n<title>178</title>\n<polygon fill=\"#c0c0c0\" stroke=\"black\" points=\"807,-36 753,-36 753,0 807,0 807,-36\"/>\n<text text-anchor=\"middle\" x=\"780\" y=\"-14.3\" font-family=\"Helvetica,sans-Serif\" font-size=\"14.00\">(...)</text>\n</g>\n<!-- 177&#45;&gt;178 -->\n<g id=\"edge10\" class=\"edge\">\n<title>177&#45;&gt;178</title>\n<path fill=\"none\" stroke=\"black\" d=\"M804.21,-71.8C800.34,-63.35 796.03,-53.95 792.13,-45.45\"/>\n<polygon fill=\"black\" stroke=\"black\" points=\"795.3,-43.96 787.95,-36.33 788.93,-46.88 795.3,-43.96\"/>\n</g>\n<!-- 197 -->\n<g id=\"node12\" class=\"node\">\n<title>197</title>\n<polygon fill=\"#c0c0c0\" stroke=\"black\" points=\"879,-36 825,-36 825,0 879,0 879,-36\"/>\n<text text-anchor=\"middle\" x=\"852\" y=\"-14.3\" font-family=\"Helvetica,sans-Serif\" font-size=\"14.00\">(...)</text>\n</g>\n<!-- 177&#45;&gt;197 -->\n<g id=\"edge11\" class=\"edge\">\n<title>177&#45;&gt;197</title>\n<path fill=\"none\" stroke=\"black\" d=\"M827.79,-71.8C831.66,-63.35 835.97,-53.95 839.87,-45.45\"/>\n<polygon fill=\"black\" stroke=\"black\" points=\"843.07,-46.88 844.05,-36.33 836.7,-43.96 843.07,-46.88\"/>\n</g>\n<!-- 235 -->\n<g id=\"node14\" class=\"node\">\n<title>235</title>\n<polygon fill=\"#c0c0c0\" stroke=\"black\" points=\"1137,-36 1083,-36 1083,0 1137,0 1137,-36\"/>\n<text text-anchor=\"middle\" x=\"1110\" y=\"-14.3\" font-family=\"Helvetica,sans-Serif\" font-size=\"14.00\">(...)</text>\n</g>\n<!-- 234&#45;&gt;235 -->\n<g id=\"edge13\" class=\"edge\">\n<title>234&#45;&gt;235</title>\n<path fill=\"none\" stroke=\"black\" d=\"M1134.21,-71.8C1130.34,-63.35 1126.03,-53.95 1122.13,-45.45\"/>\n<polygon fill=\"black\" stroke=\"black\" points=\"1125.3,-43.96 1117.95,-36.33 1118.93,-46.88 1125.3,-43.96\"/>\n</g>\n<!-- 280 -->\n<g id=\"node15\" class=\"node\">\n<title>280</title>\n<polygon fill=\"#c0c0c0\" stroke=\"black\" points=\"1209,-36 1155,-36 1155,0 1209,0 1209,-36\"/>\n<text text-anchor=\"middle\" x=\"1182\" y=\"-14.3\" font-family=\"Helvetica,sans-Serif\" font-size=\"14.00\">(...)</text>\n</g>\n<!-- 234&#45;&gt;280 -->\n<g id=\"edge14\" class=\"edge\">\n<title>234&#45;&gt;280</title>\n<path fill=\"none\" stroke=\"black\" d=\"M1157.79,-71.8C1161.66,-63.35 1165.97,-53.95 1169.87,-45.45\"/>\n<polygon fill=\"black\" stroke=\"black\" points=\"1173.07,-46.88 1174.05,-36.33 1166.7,-43.96 1173.07,-46.88\"/>\n</g>\n</g>\n</svg>\n"
          },
          "metadata": {}
        },
        {
          "output_type": "display_data",
          "data": {
            "text/plain": [
              "<graphviz.files.Source at 0x7f67f3288e20>"
            ],
            "image/svg+xml": "<?xml version=\"1.0\" encoding=\"UTF-8\" standalone=\"no\"?>\n<!DOCTYPE svg PUBLIC \"-//W3C//DTD SVG 1.1//EN\"\n \"http://www.w3.org/Graphics/SVG/1.1/DTD/svg11.dtd\">\n<!-- Generated by graphviz version 2.43.0 (0)\n -->\n<!-- Title: Tree Pages: 1 -->\n<svg width=\"1281pt\" height=\"311pt\"\n viewBox=\"0.00 0.00 1281.00 311.00\" xmlns=\"http://www.w3.org/2000/svg\" xmlns:xlink=\"http://www.w3.org/1999/xlink\">\n<g id=\"graph0\" class=\"graph\" transform=\"scale(1 1) rotate(0) translate(4 307)\">\n<title>Tree</title>\n<polygon fill=\"white\" stroke=\"transparent\" points=\"-4,4 -4,-307 1277,-307 1277,4 -4,4\"/>\n<!-- 0 -->\n<g id=\"node1\" class=\"node\">\n<title>0</title>\n<polygon fill=\"#fefdff\" stroke=\"black\" points=\"792,-303 480,-303 480,-250 792,-250 792,-303\"/>\n<text text-anchor=\"middle\" x=\"636\" y=\"-287.8\" font-family=\"Helvetica,sans-Serif\" font-size=\"14.00\">x[2469] &lt;= 0.539</text>\n<text text-anchor=\"middle\" x=\"636\" y=\"-272.8\" font-family=\"Helvetica,sans-Serif\" font-size=\"14.00\">samples = 100.0%</text>\n<text text-anchor=\"middle\" x=\"636\" y=\"-257.8\" font-family=\"Helvetica,sans-Serif\" font-size=\"14.00\">value = [0.162, 0.145, 0.161, 0.172, 0.183, 0.176]</text>\n</g>\n<!-- 1 -->\n<g id=\"node2\" class=\"node\">\n<title>1</title>\n<polygon fill=\"#ffffff\" stroke=\"black\" points=\"627.5,-214 330.5,-214 330.5,-161 627.5,-161 627.5,-214\"/>\n<text text-anchor=\"middle\" x=\"479\" y=\"-198.8\" font-family=\"Helvetica,sans-Serif\" font-size=\"14.00\">x[2139] &lt;= 0.547</text>\n<text text-anchor=\"middle\" x=\"479\" y=\"-183.8\" font-family=\"Helvetica,sans-Serif\" font-size=\"14.00\">samples = 52.6%</text>\n<text text-anchor=\"middle\" x=\"479\" y=\"-168.8\" font-family=\"Helvetica,sans-Serif\" font-size=\"14.00\">value = [0.155, 0.23, 0.227, 0.23, 0.083, 0.074]</text>\n</g>\n<!-- 0&#45;&gt;1 -->\n<g id=\"edge1\" class=\"edge\">\n<title>0&#45;&gt;1</title>\n<path fill=\"none\" stroke=\"black\" d=\"M589.74,-249.87C572.25,-240.18 552.18,-229.05 533.97,-218.96\"/>\n<polygon fill=\"black\" stroke=\"black\" points=\"535.64,-215.88 525.2,-214.1 532.25,-222.01 535.64,-215.88\"/>\n<text text-anchor=\"middle\" x=\"532.09\" y=\"-234.43\" font-family=\"Helvetica,sans-Serif\" font-size=\"14.00\">True</text>\n</g>\n<!-- 168 -->\n<g id=\"node9\" class=\"node\">\n<title>168</title>\n<polygon fill=\"#fefdff\" stroke=\"black\" points=\"939,-214 649,-214 649,-161 939,-161 939,-214\"/>\n<text text-anchor=\"middle\" x=\"794\" y=\"-198.8\" font-family=\"Helvetica,sans-Serif\" font-size=\"14.00\">x[9979] &lt;= 0.461</text>\n<text text-anchor=\"middle\" x=\"794\" y=\"-183.8\" font-family=\"Helvetica,sans-Serif\" font-size=\"14.00\">samples = 47.4%</text>\n<text text-anchor=\"middle\" x=\"794\" y=\"-168.8\" font-family=\"Helvetica,sans-Serif\" font-size=\"14.00\">value = [0.17, 0.055, 0.091, 0.11, 0.29, 0.284]</text>\n</g>\n<!-- 0&#45;&gt;168 -->\n<g id=\"edge8\" class=\"edge\">\n<title>0&#45;&gt;168</title>\n<path fill=\"none\" stroke=\"black\" d=\"M682.55,-249.87C700.15,-240.18 720.35,-229.05 738.68,-218.96\"/>\n<polygon fill=\"black\" stroke=\"black\" points=\"740.44,-221.99 747.51,-214.1 737.06,-215.86 740.44,-221.99\"/>\n<text text-anchor=\"middle\" x=\"740.55\" y=\"-234.41\" font-family=\"Helvetica,sans-Serif\" font-size=\"14.00\">False</text>\n</g>\n<!-- 2 -->\n<g id=\"node3\" class=\"node\">\n<title>2</title>\n<polygon fill=\"#fbfffd\" stroke=\"black\" points=\"312,-125 0,-125 0,-72 312,-72 312,-125\"/>\n<text text-anchor=\"middle\" x=\"156\" y=\"-109.8\" font-family=\"Helvetica,sans-Serif\" font-size=\"14.00\">x[8840] &lt;= 0.492</text>\n<text text-anchor=\"middle\" x=\"156\" y=\"-94.8\" font-family=\"Helvetica,sans-Serif\" font-size=\"14.00\">samples = 33.2%</text>\n<text text-anchor=\"middle\" x=\"156\" y=\"-79.8\" font-family=\"Helvetica,sans-Serif\" font-size=\"14.00\">value = [0.137, 0.135, 0.307, 0.294, 0.052, 0.075]</text>\n</g>\n<!-- 1&#45;&gt;2 -->\n<g id=\"edge2\" class=\"edge\">\n<title>1&#45;&gt;2</title>\n<path fill=\"none\" stroke=\"black\" d=\"M384.27,-160.98C345.41,-150.52 300.28,-138.36 260.46,-127.64\"/>\n<polygon fill=\"black\" stroke=\"black\" points=\"261.29,-124.24 250.73,-125.01 259.47,-131 261.29,-124.24\"/>\n</g>\n<!-- 105 -->\n<g id=\"node6\" class=\"node\">\n<title>105</title>\n<polygon fill=\"#e5f8cb\" stroke=\"black\" points=\"627.5,-125 330.5,-125 330.5,-72 627.5,-72 627.5,-125\"/>\n<text text-anchor=\"middle\" x=\"479\" y=\"-109.8\" font-family=\"Helvetica,sans-Serif\" font-size=\"14.00\">x[342] &lt;= 0.469</text>\n<text text-anchor=\"middle\" x=\"479\" y=\"-94.8\" font-family=\"Helvetica,sans-Serif\" font-size=\"14.00\">samples = 19.4%</text>\n<text text-anchor=\"middle\" x=\"479\" y=\"-79.8\" font-family=\"Helvetica,sans-Serif\" font-size=\"14.00\">value = [0.187, 0.4, 0.086, 0.118, 0.137, 0.072]</text>\n</g>\n<!-- 1&#45;&gt;105 -->\n<g id=\"edge5\" class=\"edge\">\n<title>1&#45;&gt;105</title>\n<path fill=\"none\" stroke=\"black\" d=\"M479,-160.87C479,-152.89 479,-143.93 479,-135.38\"/>\n<polygon fill=\"black\" stroke=\"black\" points=\"482.5,-135.25 479,-125.25 475.5,-135.25 482.5,-135.25\"/>\n</g>\n<!-- 3 -->\n<g id=\"node4\" class=\"node\">\n<title>3</title>\n<polygon fill=\"#c0c0c0\" stroke=\"black\" points=\"147,-36 93,-36 93,0 147,0 147,-36\"/>\n<text text-anchor=\"middle\" x=\"120\" y=\"-14.3\" font-family=\"Helvetica,sans-Serif\" font-size=\"14.00\">(...)</text>\n</g>\n<!-- 2&#45;&gt;3 -->\n<g id=\"edge3\" class=\"edge\">\n<title>2&#45;&gt;3</title>\n<path fill=\"none\" stroke=\"black\" d=\"M144.21,-71.8C140.34,-63.35 136.03,-53.95 132.13,-45.45\"/>\n<polygon fill=\"black\" stroke=\"black\" points=\"135.3,-43.96 127.95,-36.33 128.93,-46.88 135.3,-43.96\"/>\n</g>\n<!-- 52 -->\n<g id=\"node5\" class=\"node\">\n<title>52</title>\n<polygon fill=\"#c0c0c0\" stroke=\"black\" points=\"219,-36 165,-36 165,0 219,0 219,-36\"/>\n<text text-anchor=\"middle\" x=\"192\" y=\"-14.3\" font-family=\"Helvetica,sans-Serif\" font-size=\"14.00\">(...)</text>\n</g>\n<!-- 2&#45;&gt;52 -->\n<g id=\"edge4\" class=\"edge\">\n<title>2&#45;&gt;52</title>\n<path fill=\"none\" stroke=\"black\" d=\"M167.79,-71.8C171.66,-63.35 175.97,-53.95 179.87,-45.45\"/>\n<polygon fill=\"black\" stroke=\"black\" points=\"183.07,-46.88 184.05,-36.33 176.7,-43.96 183.07,-46.88\"/>\n</g>\n<!-- 106 -->\n<g id=\"node7\" class=\"node\">\n<title>106</title>\n<polygon fill=\"#c0c0c0\" stroke=\"black\" points=\"470,-36 416,-36 416,0 470,0 470,-36\"/>\n<text text-anchor=\"middle\" x=\"443\" y=\"-14.3\" font-family=\"Helvetica,sans-Serif\" font-size=\"14.00\">(...)</text>\n</g>\n<!-- 105&#45;&gt;106 -->\n<g id=\"edge6\" class=\"edge\">\n<title>105&#45;&gt;106</title>\n<path fill=\"none\" stroke=\"black\" d=\"M467.21,-71.8C463.34,-63.35 459.03,-53.95 455.13,-45.45\"/>\n<polygon fill=\"black\" stroke=\"black\" points=\"458.3,-43.96 450.95,-36.33 451.93,-46.88 458.3,-43.96\"/>\n</g>\n<!-- 135 -->\n<g id=\"node8\" class=\"node\">\n<title>135</title>\n<polygon fill=\"#c0c0c0\" stroke=\"black\" points=\"542,-36 488,-36 488,0 542,0 542,-36\"/>\n<text text-anchor=\"middle\" x=\"515\" y=\"-14.3\" font-family=\"Helvetica,sans-Serif\" font-size=\"14.00\">(...)</text>\n</g>\n<!-- 105&#45;&gt;135 -->\n<g id=\"edge7\" class=\"edge\">\n<title>105&#45;&gt;135</title>\n<path fill=\"none\" stroke=\"black\" d=\"M490.79,-71.8C494.66,-63.35 498.97,-53.95 502.87,-45.45\"/>\n<polygon fill=\"black\" stroke=\"black\" points=\"506.07,-46.88 507.05,-36.33 499.7,-43.96 506.07,-46.88\"/>\n</g>\n<!-- 169 -->\n<g id=\"node10\" class=\"node\">\n<title>169</title>\n<polygon fill=\"#c2a0f3\" stroke=\"black\" points=\"942.5,-125 645.5,-125 645.5,-72 942.5,-72 942.5,-125\"/>\n<text text-anchor=\"middle\" x=\"794\" y=\"-109.8\" font-family=\"Helvetica,sans-Serif\" font-size=\"14.00\">x[10165] &lt;= 0.257</text>\n<text text-anchor=\"middle\" x=\"794\" y=\"-94.8\" font-family=\"Helvetica,sans-Serif\" font-size=\"14.00\">samples = 14.2%</text>\n<text text-anchor=\"middle\" x=\"794\" y=\"-79.8\" font-family=\"Helvetica,sans-Serif\" font-size=\"14.00\">value = [0.077, 0.05, 0.085, 0.019, 0.579, 0.19]</text>\n</g>\n<!-- 168&#45;&gt;169 -->\n<g id=\"edge9\" class=\"edge\">\n<title>168&#45;&gt;169</title>\n<path fill=\"none\" stroke=\"black\" d=\"M794,-160.87C794,-152.89 794,-143.93 794,-135.38\"/>\n<polygon fill=\"black\" stroke=\"black\" points=\"797.5,-135.25 794,-125.25 790.5,-135.25 797.5,-135.25\"/>\n</g>\n<!-- 206 -->\n<g id=\"node13\" class=\"node\">\n<title>206</title>\n<polygon fill=\"#fbe3f1\" stroke=\"black\" points=\"1273,-125 961,-125 961,-72 1273,-72 1273,-125\"/>\n<text text-anchor=\"middle\" x=\"1117\" y=\"-109.8\" font-family=\"Helvetica,sans-Serif\" font-size=\"14.00\">x[1551] &lt;= 0.673</text>\n<text text-anchor=\"middle\" x=\"1117\" y=\"-94.8\" font-family=\"Helvetica,sans-Serif\" font-size=\"14.00\">samples = 33.2%</text>\n<text text-anchor=\"middle\" x=\"1117\" y=\"-79.8\" font-family=\"Helvetica,sans-Serif\" font-size=\"14.00\">value = [0.211, 0.057, 0.094, 0.151, 0.163, 0.324]</text>\n</g>\n<!-- 168&#45;&gt;206 -->\n<g id=\"edge12\" class=\"edge\">\n<title>168&#45;&gt;206</title>\n<path fill=\"none\" stroke=\"black\" d=\"M888.73,-160.98C927.59,-150.52 972.72,-138.36 1012.54,-127.64\"/>\n<polygon fill=\"black\" stroke=\"black\" points=\"1013.53,-131 1022.27,-125.01 1011.71,-124.24 1013.53,-131\"/>\n</g>\n<!-- 170 -->\n<g id=\"node11\" class=\"node\">\n<title>170</title>\n<polygon fill=\"#c0c0c0\" stroke=\"black\" points=\"785,-36 731,-36 731,0 785,0 785,-36\"/>\n<text text-anchor=\"middle\" x=\"758\" y=\"-14.3\" font-family=\"Helvetica,sans-Serif\" font-size=\"14.00\">(...)</text>\n</g>\n<!-- 169&#45;&gt;170 -->\n<g id=\"edge10\" class=\"edge\">\n<title>169&#45;&gt;170</title>\n<path fill=\"none\" stroke=\"black\" d=\"M782.21,-71.8C778.34,-63.35 774.03,-53.95 770.13,-45.45\"/>\n<polygon fill=\"black\" stroke=\"black\" points=\"773.3,-43.96 765.95,-36.33 766.93,-46.88 773.3,-43.96\"/>\n</g>\n<!-- 173 -->\n<g id=\"node12\" class=\"node\">\n<title>173</title>\n<polygon fill=\"#c0c0c0\" stroke=\"black\" points=\"857,-36 803,-36 803,0 857,0 857,-36\"/>\n<text text-anchor=\"middle\" x=\"830\" y=\"-14.3\" font-family=\"Helvetica,sans-Serif\" font-size=\"14.00\">(...)</text>\n</g>\n<!-- 169&#45;&gt;173 -->\n<g id=\"edge11\" class=\"edge\">\n<title>169&#45;&gt;173</title>\n<path fill=\"none\" stroke=\"black\" d=\"M805.79,-71.8C809.66,-63.35 813.97,-53.95 817.87,-45.45\"/>\n<polygon fill=\"black\" stroke=\"black\" points=\"821.07,-46.88 822.05,-36.33 814.7,-43.96 821.07,-46.88\"/>\n</g>\n<!-- 207 -->\n<g id=\"node14\" class=\"node\">\n<title>207</title>\n<polygon fill=\"#c0c0c0\" stroke=\"black\" points=\"1108,-36 1054,-36 1054,0 1108,0 1108,-36\"/>\n<text text-anchor=\"middle\" x=\"1081\" y=\"-14.3\" font-family=\"Helvetica,sans-Serif\" font-size=\"14.00\">(...)</text>\n</g>\n<!-- 206&#45;&gt;207 -->\n<g id=\"edge13\" class=\"edge\">\n<title>206&#45;&gt;207</title>\n<path fill=\"none\" stroke=\"black\" d=\"M1105.21,-71.8C1101.34,-63.35 1097.03,-53.95 1093.13,-45.45\"/>\n<polygon fill=\"black\" stroke=\"black\" points=\"1096.3,-43.96 1088.95,-36.33 1089.93,-46.88 1096.3,-43.96\"/>\n</g>\n<!-- 282 -->\n<g id=\"node15\" class=\"node\">\n<title>282</title>\n<polygon fill=\"#c0c0c0\" stroke=\"black\" points=\"1180,-36 1126,-36 1126,0 1180,0 1180,-36\"/>\n<text text-anchor=\"middle\" x=\"1153\" y=\"-14.3\" font-family=\"Helvetica,sans-Serif\" font-size=\"14.00\">(...)</text>\n</g>\n<!-- 206&#45;&gt;282 -->\n<g id=\"edge14\" class=\"edge\">\n<title>206&#45;&gt;282</title>\n<path fill=\"none\" stroke=\"black\" d=\"M1128.79,-71.8C1132.66,-63.35 1136.97,-53.95 1140.87,-45.45\"/>\n<polygon fill=\"black\" stroke=\"black\" points=\"1144.07,-46.88 1145.05,-36.33 1137.7,-43.96 1144.07,-46.88\"/>\n</g>\n</g>\n</svg>\n"
          },
          "metadata": {}
        }
      ]
    }
  ]
}